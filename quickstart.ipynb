{
 "cells": [
  {
   "cell_type": "code",
   "execution_count": 3,
   "metadata": {},
   "outputs": [
    {
     "name": "stdout",
     "output_type": "stream",
     "text": [
      "Please visit this URL to authorize this application: https://accounts.google.com/o/oauth2/auth?response_type=code&client_id=798926975259-du33l91gtjgmh1ol4ale639d63oepnkc.apps.googleusercontent.com&redirect_uri=urn%3Aietf%3Awg%3Aoauth%3A2.0%3Aoob&scope=https%3A%2F%2Fwww.googleapis.com%2Fauth%2Fyoutube.force-ssl&state=DBf9CtsJ9Qck4PT1AZaRz3FxiBKSc7&prompt=consent&access_type=offline\n",
      "Enter the authorization code: 4/AAB0YPVJQp7iypvMuQsoWP7jrCCzvx4cvtIxf5wvQjaJITC8ZdTbA2I\n",
      "This channel's ID is UCxcnsr1R5Ge_fbTu5ajt8DQ. Its title is Bob Ross, and it has 138631301 views.\n"
     ]
    }
   ],
   "source": [
    "# Sample Python code for user authorization https://developers.google.com/youtube/v3/quickstart/python\n",
    "\n",
    "import os\n",
    "\n",
    "import google.oauth2.credentials\n",
    "\n",
    "from googleapiclient.discovery import build\n",
    "from googleapiclient.errors import HttpError\n",
    "from google_auth_oauthlib.flow import InstalledAppFlow\n",
    "\n",
    "# The CLIENT_SECRETS_FILE variable specifies the name of a file that contains\n",
    "# the OAuth 2.0 information for this application, including its client_id and\n",
    "# client_secret.\n",
    "CLIENT_SECRETS_FILE = \"client_secret.json\"\n",
    "\n",
    "# This OAuth 2.0 access scope allows for full read/write access to the\n",
    "# authenticated user's account and requires requests to use an SSL connection.\n",
    "SCOPES = ['https://www.googleapis.com/auth/youtube.force-ssl']\n",
    "API_SERVICE_NAME = 'youtube'\n",
    "API_VERSION = 'v3'\n",
    "\n",
    "def get_authenticated_service():\n",
    "  flow = InstalledAppFlow.from_client_secrets_file(CLIENT_SECRETS_FILE, SCOPES)\n",
    "  credentials = flow.run_console()\n",
    "  return build(API_SERVICE_NAME, API_VERSION, credentials = credentials)\n",
    "\n",
    "def channels_list_by_username(service, **kwargs):\n",
    "  results = service.channels().list(\n",
    "    **kwargs\n",
    "  ).execute()\n",
    "  \n",
    "  print('This channel\\'s ID is %s. Its title is %s, and it has %s views.' %\n",
    "       (results['items'][0]['id'],\n",
    "        results['items'][0]['snippet']['title'],\n",
    "        results['items'][0]['statistics']['viewCount']))\n",
    "\n",
    "if __name__ == '__main__':\n",
    "  # When running locally, disable OAuthlib's HTTPs verification. When\n",
    "  # running in production *do not* leave this option enabled.\n",
    "  os.environ['OAUTHLIB_INSECURE_TRANSPORT'] = '1'\n",
    "  service = get_authenticated_service()\n",
    "  channels_list_by_username(service,\n",
    "      part='snippet,contentDetails,statistics',\n",
    "      forUsername='BobRossInc')"
   ]
  },
  {
   "cell_type": "code",
   "execution_count": 2,
   "metadata": {},
   "outputs": [
    {
     "name": "stdout",
     "output_type": "stream",
     "text": [
      "Please visit this URL to authorize this application: https://accounts.google.com/o/oauth2/auth?response_type=code&client_id=798926975259-du33l91gtjgmh1ol4ale639d63oepnkc.apps.googleusercontent.com&redirect_uri=urn%3Aietf%3Awg%3Aoauth%3A2.0%3Aoob&scope=https%3A%2F%2Fwww.googleapis.com%2Fauth%2Fyoutube.force-ssl&state=x2ZT8yxswpvc6j09bXzZTiQ8gvdo8Z&prompt=consent&access_type=offline\n",
      "Enter the authorization code: 4/AAC4o2LWOekyS9TJADA700bUqvgGsbWcvu-Ycy8zrTToTze0j8UwUqk\n"
     ]
    },
    {
     "ename": "IndexError",
     "evalue": "list index out of range",
     "output_type": "error",
     "traceback": [
      "\u001b[0;31m---------------------------------------------------------------------------\u001b[0m",
      "\u001b[0;31mIndexError\u001b[0m                                Traceback (most recent call last)",
      "\u001b[0;32m<ipython-input-2-bbd60be9c833>\u001b[0m in \u001b[0;36m<module>\u001b[0;34m()\u001b[0m\n\u001b[1;32m     42\u001b[0m   channels_list_by_username(service,\n\u001b[1;32m     43\u001b[0m       \u001b[0mpart\u001b[0m\u001b[0;34m=\u001b[0m\u001b[0;34m'snippet,contentDetails,statistics'\u001b[0m\u001b[0;34m,\u001b[0m\u001b[0;34m\u001b[0m\u001b[0m\n\u001b[0;32m---> 44\u001b[0;31m       forUsername='BobRoss')\n\u001b[0m",
      "\u001b[0;32m<ipython-input-2-bbd60be9c833>\u001b[0m in \u001b[0;36mchannels_list_by_username\u001b[0;34m(service, **kwargs)\u001b[0m\n\u001b[1;32m     31\u001b[0m \u001b[0;34m\u001b[0m\u001b[0m\n\u001b[1;32m     32\u001b[0m   print('This channel\\'s ID is %s. Its title is %s, and it has %s views.' %\n\u001b[0;32m---> 33\u001b[0;31m        (results['items'][0]['id'],\n\u001b[0m\u001b[1;32m     34\u001b[0m         \u001b[0mresults\u001b[0m\u001b[0;34m[\u001b[0m\u001b[0;34m'items'\u001b[0m\u001b[0;34m]\u001b[0m\u001b[0;34m[\u001b[0m\u001b[0;36m0\u001b[0m\u001b[0;34m]\u001b[0m\u001b[0;34m[\u001b[0m\u001b[0;34m'snippet'\u001b[0m\u001b[0;34m]\u001b[0m\u001b[0;34m[\u001b[0m\u001b[0;34m'title'\u001b[0m\u001b[0;34m]\u001b[0m\u001b[0;34m,\u001b[0m\u001b[0;34m\u001b[0m\u001b[0m\n\u001b[1;32m     35\u001b[0m         results['items'][0]['statistics']['viewCount']))\n",
      "\u001b[0;31mIndexError\u001b[0m: list index out of range"
     ]
    }
   ],
   "source": [
    "# Sample Python code for user authorization https://developers.google.com/youtube/v3/quickstart/python\n",
    "\n",
    "import os\n",
    "\n",
    "import google.oauth2.credentials\n",
    "\n",
    "from googleapiclient.discovery import build\n",
    "from googleapiclient.errors import HttpError\n",
    "from google_auth_oauthlib.flow import InstalledAppFlow\n",
    "\n",
    "# The CLIENT_SECRETS_FILE variable specifies the name of a file that contains\n",
    "# the OAuth 2.0 information for this application, including its client_id and\n",
    "# client_secret.\n",
    "CLIENT_SECRETS_FILE = \"client_secret.json\"\n",
    "\n",
    "# This OAuth 2.0 access scope allows for full read/write access to the\n",
    "# authenticated user's account and requires requests to use an SSL connection.\n",
    "SCOPES = ['https://www.googleapis.com/auth/youtube.force-ssl']\n",
    "API_SERVICE_NAME = 'youtube'\n",
    "API_VERSION = 'v3'\n",
    "\n",
    "def get_authenticated_service():\n",
    "  flow = InstalledAppFlow.from_client_secrets_file(CLIENT_SECRETS_FILE, SCOPES)\n",
    "  credentials = flow.run_console()\n",
    "  return build(API_SERVICE_NAME, API_VERSION, credentials = credentials)\n",
    "\n",
    "def channels_list_by_username(service, **kwargs):\n",
    "  results = service.channels().list(\n",
    "    **kwargs\n",
    "  ).execute()\n",
    "  \n",
    "  print('This channel\\'s ID is %s. Its title is %s, and it has %s views.' %\n",
    "       (results['items'][0]['id'],\n",
    "        results['items'][0]['snippet']['title'],\n",
    "        results['items'][0]['statistics']['viewCount']))\n",
    "\n",
    "if __name__ == '__main__':\n",
    "  # When running locally, disable OAuthlib's HTTPs verification. When\n",
    "  # running in production *do not* leave this option enabled.\n",
    "  os.environ['OAUTHLIB_INSECURE_TRANSPORT'] = '1'\n",
    "  service = get_authenticated_service()\n",
    "  channels_list_by_username(service,\n",
    "      part='snippet,contentDetails,statistics',\n",
    "      forUsername='BobRossInc')"
   ]
  }
 ],
 "metadata": {
  "kernelspec": {
   "display_name": "Python 3",
   "language": "python",
   "name": "python3"
  },
  "language_info": {
   "codemirror_mode": {
    "name": "ipython",
    "version": 3
   },
   "file_extension": ".py",
   "mimetype": "text/x-python",
   "name": "python",
   "nbconvert_exporter": "python",
   "pygments_lexer": "ipython3",
   "version": "3.6.1"
  }
 },
 "nbformat": 4,
 "nbformat_minor": 2
}
