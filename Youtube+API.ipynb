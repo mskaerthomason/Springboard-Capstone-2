{
 "cells": [
  {
   "cell_type": "code",
   "execution_count": 1,
   "metadata": {
    "collapsed": true
   },
   "outputs": [],
   "source": [
    "from googleapiclient.discovery import build\n",
    "from googleapiclient.errors import HttpError"
   ]
  },
  {
   "cell_type": "code",
   "execution_count": 2,
   "metadata": {
    "collapsed": true
   },
   "outputs": [],
   "source": [
    "# Set DEVELOPER_KEY to the API key value from the APIs & auth > Registered apps\n",
    "# tab of\n",
    "#   https://cloud.google.com/console\n",
    "# Please ensure that you have enabled the YouTube Data API for your project.\n",
    "DEVELOPER_KEY = key\n",
    "YOUTUBE_API_SERVICE_NAME = 'youtube'\n",
    "YOUTUBE_API_VERSION = 'v3'"
   ]
  },
  {
   "cell_type": "code",
   "execution_count": 3,
   "metadata": {
    "collapsed": true
   },
   "outputs": [],
   "source": [
    "youtube = build(YOUTUBE_API_SERVICE_NAME, YOUTUBE_API_VERSION,\n",
    "    developerKey=DEVELOPER_KEY)"
   ]
  },
  {
   "cell_type": "code",
   "execution_count": 25,
   "metadata": {
    "collapsed": true
   },
   "outputs": [],
   "source": [
    "search_response = youtube.search().list(\n",
    "    q='bob ross',\n",
    "    part='id,snippet',\n",
    "    maxResults=20\n",
    "  ).execute()"
   ]
  },
  {
   "cell_type": "code",
   "execution_count": 5,
   "metadata": {},
   "outputs": [
    {
     "data": {
      "text/plain": [
       "{'etag': '\"DuHzAJ-eQIiCIp7p4ldoVcVAOeY/X2mBi_8QaT-dnf_WG0apMFFQuyc\"',\n",
       " 'id': {'channelId': 'UCxcnsr1R5Ge_fbTu5ajt8DQ', 'kind': 'youtube#channel'},\n",
       " 'kind': 'youtube#searchResult',\n",
       " 'snippet': {'channelId': 'UCxcnsr1R5Ge_fbTu5ajt8DQ',\n",
       "  'channelTitle': 'Bob Ross',\n",
       "  'description': 'The official YouTube channel of \"The Joy of Painting\" and Bob Ross. Happy painting! You\\'ve see Bob Ross before. He is the soft-spoken guy painting happy ...',\n",
       "  'liveBroadcastContent': 'none',\n",
       "  'publishedAt': '2011-03-09T00:49:30.000Z',\n",
       "  'thumbnails': {'default': {'url': 'https://yt3.ggpht.com/-uJh4oSQAwak/AAAAAAAAAAI/AAAAAAAAAAA/AMGKfKvDP3w/s88-c-k-no-mo-rj-c0xffffff/photo.jpg'},\n",
       "   'high': {'url': 'https://yt3.ggpht.com/-uJh4oSQAwak/AAAAAAAAAAI/AAAAAAAAAAA/AMGKfKvDP3w/s800-c-k-no-mo-rj-c0xffffff/photo.jpg'},\n",
       "   'medium': {'url': 'https://yt3.ggpht.com/-uJh4oSQAwak/AAAAAAAAAAI/AAAAAAAAAAA/AMGKfKvDP3w/s240-c-k-no-mo-rj-c0xffffff/photo.jpg'}},\n",
       "  'title': 'Bob Ross'}}"
      ]
     },
     "execution_count": 5,
     "metadata": {},
     "output_type": "execute_result"
    }
   ],
   "source": [
    "search_response['items'][0]"
   ]
  },
  {
   "cell_type": "code",
   "execution_count": 6,
   "metadata": {},
   "outputs": [
    {
     "data": {
      "text/plain": [
       "'UCxcnsr1R5Ge_fbTu5ajt8DQ'"
      ]
     },
     "execution_count": 6,
     "metadata": {},
     "output_type": "execute_result"
    }
   ],
   "source": [
    "channel_id = search_response['items'][0]['snippet']['channelId']\n",
    "channel_id"
   ]
  },
  {
   "cell_type": "code",
   "execution_count": 7,
   "metadata": {
    "collapsed": true
   },
   "outputs": [],
   "source": [
    "channels = youtube.channels()"
   ]
  },
  {
   "cell_type": "code",
   "execution_count": 8,
   "metadata": {},
   "outputs": [
    {
     "data": {
      "text/plain": [
       "{'etag': '\"DuHzAJ-eQIiCIp7p4ldoVcVAOeY/11WbaazpA5ZwhswQP7ZSABytZos\"',\n",
       " 'items': [{'etag': '\"DuHzAJ-eQIiCIp7p4ldoVcVAOeY/ICTLPIutAsERhNycHEjd6tBtHn4\"',\n",
       "   'id': 'UCxcnsr1R5Ge_fbTu5ajt8DQ',\n",
       "   'kind': 'youtube#channel',\n",
       "   'snippet': {'country': 'US',\n",
       "    'customUrl': 'bobrossincvideos',\n",
       "    'description': 'The official YouTube channel of \"The Joy of Painting\" and Bob Ross.  Happy painting!\\n\\nYou\\'ve see Bob Ross before. He is the soft-spoken guy painting happy clouds, mountains, and trees in about 26 television minutes, using big house painting-type brushes and encouraging audiences with his gentle reminder, \"you can do it.\"\\n\\nThe Joy of Painting is an American half-hour instructional television show hosted by painter Bob Ross which ran from January 11, 1983, until May 17, 1994. In each episode, Ross taught techniques for landscape oil painting, completing a painting in each session.',\n",
       "    'localized': {'description': 'The official YouTube channel of \"The Joy of Painting\" and Bob Ross.  Happy painting!\\n\\nYou\\'ve see Bob Ross before. He is the soft-spoken guy painting happy clouds, mountains, and trees in about 26 television minutes, using big house painting-type brushes and encouraging audiences with his gentle reminder, \"you can do it.\"\\n\\nThe Joy of Painting is an American half-hour instructional television show hosted by painter Bob Ross which ran from January 11, 1983, until May 17, 1994. In each episode, Ross taught techniques for landscape oil painting, completing a painting in each session.',\n",
       "     'title': 'Bob Ross'},\n",
       "    'publishedAt': '2011-03-09T00:49:30.000Z',\n",
       "    'thumbnails': {'default': {'height': 88,\n",
       "      'url': 'https://yt3.ggpht.com/-uJh4oSQAwak/AAAAAAAAAAI/AAAAAAAAAAA/AMGKfKvDP3w/s88-c-k-no-mo-rj-c0xffffff/photo.jpg',\n",
       "      'width': 88},\n",
       "     'high': {'height': 800,\n",
       "      'url': 'https://yt3.ggpht.com/-uJh4oSQAwak/AAAAAAAAAAI/AAAAAAAAAAA/AMGKfKvDP3w/s800-c-k-no-mo-rj-c0xffffff/photo.jpg',\n",
       "      'width': 800},\n",
       "     'medium': {'height': 240,\n",
       "      'url': 'https://yt3.ggpht.com/-uJh4oSQAwak/AAAAAAAAAAI/AAAAAAAAAAA/AMGKfKvDP3w/s240-c-k-no-mo-rj-c0xffffff/photo.jpg',\n",
       "      'width': 240}},\n",
       "    'title': 'Bob Ross'},\n",
       "   'statistics': {'commentCount': '0',\n",
       "    'hiddenSubscriberCount': False,\n",
       "    'subscriberCount': '1331501',\n",
       "    'videoCount': '570',\n",
       "    'viewCount': '138770450'}}],\n",
       " 'kind': 'youtube#channelListResponse',\n",
       " 'pageInfo': {'resultsPerPage': 1, 'totalResults': 1}}"
      ]
     },
     "execution_count": 8,
     "metadata": {},
     "output_type": "execute_result"
    }
   ],
   "source": [
    "channels.list(part='id,snippet,statistics', id=channel_id).execute()"
   ]
  },
  {
   "cell_type": "code",
   "execution_count": 29,
   "metadata": {},
   "outputs": [],
   "source": [
    "video_ids = []\n",
    "all_vids = []\n",
    "token = None\n",
    "while True:\n",
    "    videos = youtube.search().list(\n",
    "        part='id,snippet',\n",
    "        channelId=channel_id,\n",
    "        maxResults=50,\n",
    "        pageToken=token\n",
    "      ).execute()\n",
    "    token = videos.get('nextPageToken', None)\n",
    "    for v in videos['items']:\n",
    "        if 'videoId' in v['id']:\n",
    "            video_ids.append([v['id']['videoId']])\n",
    "            all_vids.append(v)\n",
    "    if not token:\n",
    "        break"
   ]
  },
  {
   "cell_type": "code",
   "execution_count": 19,
   "metadata": {},
   "outputs": [
    {
     "data": {
      "text/plain": [
       "(418, 418)"
      ]
     },
     "execution_count": 19,
     "metadata": {},
     "output_type": "execute_result"
    }
   ],
   "source": [
    "len(video_ids), len(all_vids)"
   ]
  },
  {
   "cell_type": "code",
   "execution_count": 20,
   "metadata": {},
   "outputs": [
    {
     "data": {
      "text/plain": [
       "{'etag': '\"DuHzAJ-eQIiCIp7p4ldoVcVAOeY/nNrWdISHg3iJiRuQDXYmkwi1mcI\"',\n",
       " 'id': {'kind': 'youtube#video', 'videoId': 'jyknCVczn3Q'},\n",
       " 'kind': 'youtube#searchResult',\n",
       " 'snippet': {'channelId': 'UCxcnsr1R5Ge_fbTu5ajt8DQ',\n",
       "  'channelTitle': 'Bob Ross',\n",
       "  'description': 'Bob Ross - The Joy of Painting - Season 20 is now available on iTunes! http://bit.ly/iTunesBobRoss Subscribe to the official Bob Ross channel for more full ...',\n",
       "  'liveBroadcastContent': 'none',\n",
       "  'publishedAt': '2015-04-06T16:34:45.000Z',\n",
       "  'thumbnails': {'default': {'height': 90,\n",
       "    'url': 'https://i.ytimg.com/vi/jyknCVczn3Q/default.jpg',\n",
       "    'width': 120},\n",
       "   'high': {'height': 360,\n",
       "    'url': 'https://i.ytimg.com/vi/jyknCVczn3Q/hqdefault.jpg',\n",
       "    'width': 480},\n",
       "   'medium': {'height': 180,\n",
       "    'url': 'https://i.ytimg.com/vi/jyknCVczn3Q/mqdefault.jpg',\n",
       "    'width': 320}},\n",
       "  'title': 'Bob Ross - Painting Clouds'}}"
      ]
     },
     "execution_count": 20,
     "metadata": {},
     "output_type": "execute_result"
    }
   ],
   "source": [
    "all_vids[5]"
   ]
  },
  {
   "cell_type": "code",
   "execution_count": 62,
   "metadata": {},
   "outputs": [
    {
     "data": {
      "text/plain": [
       "['lLWEXRAnQd0']"
      ]
     },
     "execution_count": 62,
     "metadata": {},
     "output_type": "execute_result"
    }
   ],
   "source": [
    "video_ids[0]"
   ]
  },
  {
   "cell_type": "code",
   "execution_count": 12,
   "metadata": {
    "collapsed": true
   },
   "outputs": [],
   "source": [
    "vid = youtube.videos()"
   ]
  },
  {
   "cell_type": "code",
   "execution_count": 61,
   "metadata": {},
   "outputs": [
    {
     "data": {
      "text/plain": [
       "{'etag': '\"DuHzAJ-eQIiCIp7p4ldoVcVAOeY/2oUdGZZYDZHPSIlbBnhjlkMkAdY\"',\n",
       " 'items': [{'etag': '\"DuHzAJ-eQIiCIp7p4ldoVcVAOeY/EyEYssP7BeK9sqCtLYz5VfL9Z2k\"',\n",
       "   'id': 'lLWEXRAnQd0',\n",
       "   'kind': 'youtube#video',\n",
       "   'statistics': {'commentCount': '20867',\n",
       "    'dislikeCount': '2206',\n",
       "    'favoriteCount': '0',\n",
       "    'likeCount': '149298',\n",
       "    'viewCount': '7391836'}}],\n",
       " 'kind': 'youtube#videoListResponse',\n",
       " 'pageInfo': {'resultsPerPage': 1, 'totalResults': 1}}"
      ]
     },
     "execution_count": 61,
     "metadata": {},
     "output_type": "execute_result"
    }
   ],
   "source": [
    "vid.list(part='id,statistics', \n",
    "         id='lLWEXRAnQd0'\n",
    "        ).execute()"
   ]
  },
  {
   "cell_type": "code",
   "execution_count": 55,
   "metadata": {},
   "outputs": [],
   "source": [
    "video_stats = []\n",
    "for video in video_ids:\n",
    "    stats = vid.list(part='id,statistics', \n",
    "                 id=video\n",
    "            ).execute()\n",
    "    video_stats.append(stats)"
   ]
  },
  {
   "cell_type": "code",
   "execution_count": 56,
   "metadata": {},
   "outputs": [
    {
     "data": {
      "text/plain": [
       "{'etag': '\"DuHzAJ-eQIiCIp7p4ldoVcVAOeY/hirftF6HU1SlcHf-VOY2bsqIoJA\"',\n",
       " 'items': [],\n",
       " 'kind': 'youtube#videoListResponse',\n",
       " 'pageInfo': {'resultsPerPage': 0, 'totalResults': 0}}"
      ]
     },
     "execution_count": 56,
     "metadata": {},
     "output_type": "execute_result"
    }
   ],
   "source": [
    "video_stats[0]"
   ]
  }
 ],
 "metadata": {
  "kernelspec": {
   "display_name": "Python 3",
   "language": "python",
   "name": "python3"
  },
  "language_info": {
   "codemirror_mode": {
    "name": "ipython",
    "version": 3
   },
   "file_extension": ".py",
   "mimetype": "text/x-python",
   "name": "python",
   "nbconvert_exporter": "python",
   "pygments_lexer": "ipython3",
   "version": "3.6.1"
  }
 },
 "nbformat": 4,
 "nbformat_minor": 2
}
