{
 "cells": [
  {
   "cell_type": "code",
   "execution_count": 1,
   "metadata": {
    "collapsed": true
   },
   "outputs": [],
   "source": [
    "#### code pulled from google API docs\n",
    "from googleapiclient.discovery import build\n",
    "from googleapiclient.errors import HttpError"
   ]
  },
  {
   "cell_type": "code",
   "execution_count": 2,
   "metadata": {
    "collapsed": true
   },
   "outputs": [],
   "source": [
    "# Set DEVELOPER_KEY to the API key value from the APIs & auth > Registered apps\n",
    "# tab of\n",
    "#   https://cloud.google.com/console\n",
    "# Please ensure that you have enabled the YouTube Data API for your project.\n",
    "DEVELOPER_KEY = 'key'\n",
    "YOUTUBE_API_SERVICE_NAME = 'youtube'\n",
    "YOUTUBE_API_VERSION = 'v3'"
   ]
  },
  {
   "cell_type": "code",
   "execution_count": 3,
   "metadata": {
    "collapsed": true
   },
   "outputs": [],
   "source": [
    "youtube = build(YOUTUBE_API_SERVICE_NAME, YOUTUBE_API_VERSION,\n",
    "    developerKey=DEVELOPER_KEY)"
   ]
  },
  {
   "cell_type": "code",
   "execution_count": 4,
   "metadata": {
    "collapsed": true
   },
   "outputs": [],
   "source": [
    "#search for channel ids related to Bob Ross\n",
    "search_response = youtube.search().list(\n",
    "    q='bob ross',\n",
    "    part='id,snippet',\n",
    "    maxResults=20\n",
    "  ).execute()"
   ]
  },
  {
   "cell_type": "code",
   "execution_count": 5,
   "metadata": {},
   "outputs": [
    {
     "data": {
      "text/plain": [
       "{'etag': '\"DuHzAJ-eQIiCIp7p4ldoVcVAOeY/X2mBi_8QaT-dnf_WG0apMFFQuyc\"',\n",
       " 'id': {'channelId': 'UCxcnsr1R5Ge_fbTu5ajt8DQ', 'kind': 'youtube#channel'},\n",
       " 'kind': 'youtube#searchResult',\n",
       " 'snippet': {'channelId': 'UCxcnsr1R5Ge_fbTu5ajt8DQ',\n",
       "  'channelTitle': 'Bob Ross',\n",
       "  'description': 'The official YouTube channel of \"The Joy of Painting\" and Bob Ross. Happy painting! You\\'ve see Bob Ross before. He is the soft-spoken guy painting happy ...',\n",
       "  'liveBroadcastContent': 'none',\n",
       "  'publishedAt': '2011-03-09T00:49:30.000Z',\n",
       "  'thumbnails': {'default': {'url': 'https://yt3.ggpht.com/-uJh4oSQAwak/AAAAAAAAAAI/AAAAAAAAAAA/AMGKfKvDP3w/s88-c-k-no-mo-rj-c0xffffff/photo.jpg'},\n",
       "   'high': {'url': 'https://yt3.ggpht.com/-uJh4oSQAwak/AAAAAAAAAAI/AAAAAAAAAAA/AMGKfKvDP3w/s800-c-k-no-mo-rj-c0xffffff/photo.jpg'},\n",
       "   'medium': {'url': 'https://yt3.ggpht.com/-uJh4oSQAwak/AAAAAAAAAAI/AAAAAAAAAAA/AMGKfKvDP3w/s240-c-k-no-mo-rj-c0xffffff/photo.jpg'}},\n",
       "  'title': 'Bob Ross'}}"
      ]
     },
     "execution_count": 5,
     "metadata": {},
     "output_type": "execute_result"
    }
   ],
   "source": [
    "#what's the best match?\n",
    "search_response['items'][0]"
   ]
  },
  {
   "cell_type": "code",
   "execution_count": 6,
   "metadata": {},
   "outputs": [
    {
     "data": {
      "text/plain": [
       "'UCxcnsr1R5Ge_fbTu5ajt8DQ'"
      ]
     },
     "execution_count": 6,
     "metadata": {},
     "output_type": "execute_result"
    }
   ],
   "source": [
    "#save channel id\n",
    "channel_id = search_response['items'][0]['snippet']['channelId']\n",
    "channel_id"
   ]
  },
  {
   "cell_type": "code",
   "execution_count": 7,
   "metadata": {
    "collapsed": true
   },
   "outputs": [],
   "source": [
    "channels = youtube.channels()"
   ]
  },
  {
   "cell_type": "code",
   "execution_count": 8,
   "metadata": {},
   "outputs": [
    {
     "data": {
      "text/plain": [
       "{'etag': '\"DuHzAJ-eQIiCIp7p4ldoVcVAOeY/vpAeOxx1yzNyTiJSKs90ji2n6GQ\"',\n",
       " 'items': [{'etag': '\"DuHzAJ-eQIiCIp7p4ldoVcVAOeY/QdKWsvijd8SdexuRKUaeDhOxwZs\"',\n",
       "   'id': 'UCxcnsr1R5Ge_fbTu5ajt8DQ',\n",
       "   'kind': 'youtube#channel',\n",
       "   'snippet': {'country': 'US',\n",
       "    'customUrl': 'bobrossincvideos',\n",
       "    'description': 'The official YouTube channel of \"The Joy of Painting\" and Bob Ross.  Happy painting!\\n\\nYou\\'ve see Bob Ross before. He is the soft-spoken guy painting happy clouds, mountains, and trees in about 26 television minutes, using big house painting-type brushes and encouraging audiences with his gentle reminder, \"you can do it.\"\\n\\nThe Joy of Painting is an American half-hour instructional television show hosted by painter Bob Ross which ran from January 11, 1983, until May 17, 1994. In each episode, Ross taught techniques for landscape oil painting, completing a painting in each session.',\n",
       "    'localized': {'description': 'The official YouTube channel of \"The Joy of Painting\" and Bob Ross.  Happy painting!\\n\\nYou\\'ve see Bob Ross before. He is the soft-spoken guy painting happy clouds, mountains, and trees in about 26 television minutes, using big house painting-type brushes and encouraging audiences with his gentle reminder, \"you can do it.\"\\n\\nThe Joy of Painting is an American half-hour instructional television show hosted by painter Bob Ross which ran from January 11, 1983, until May 17, 1994. In each episode, Ross taught techniques for landscape oil painting, completing a painting in each session.',\n",
       "     'title': 'Bob Ross'},\n",
       "    'publishedAt': '2011-03-09T00:49:30.000Z',\n",
       "    'thumbnails': {'default': {'height': 88,\n",
       "      'url': 'https://yt3.ggpht.com/-uJh4oSQAwak/AAAAAAAAAAI/AAAAAAAAAAA/AMGKfKvDP3w/s88-c-k-no-mo-rj-c0xffffff/photo.jpg',\n",
       "      'width': 88},\n",
       "     'high': {'height': 800,\n",
       "      'url': 'https://yt3.ggpht.com/-uJh4oSQAwak/AAAAAAAAAAI/AAAAAAAAAAA/AMGKfKvDP3w/s800-c-k-no-mo-rj-c0xffffff/photo.jpg',\n",
       "      'width': 800},\n",
       "     'medium': {'height': 240,\n",
       "      'url': 'https://yt3.ggpht.com/-uJh4oSQAwak/AAAAAAAAAAI/AAAAAAAAAAA/AMGKfKvDP3w/s240-c-k-no-mo-rj-c0xffffff/photo.jpg',\n",
       "      'width': 240}},\n",
       "    'title': 'Bob Ross'},\n",
       "   'statistics': {'commentCount': '0',\n",
       "    'hiddenSubscriberCount': False,\n",
       "    'subscriberCount': '1339075',\n",
       "    'videoCount': '575',\n",
       "    'viewCount': '140295068'}}],\n",
       " 'kind': 'youtube#channelListResponse',\n",
       " 'pageInfo': {'resultsPerPage': 1, 'totalResults': 1}}"
      ]
     },
     "execution_count": 8,
     "metadata": {},
     "output_type": "execute_result"
    }
   ],
   "source": [
    "#get channel information\n",
    "channels.list(part='id,snippet,statistics', id=channel_id).execute()"
   ]
  },
  {
   "cell_type": "code",
   "execution_count": 9,
   "metadata": {
    "collapsed": true
   },
   "outputs": [],
   "source": [
    "#gather video ids\n",
    "video_ids = []\n",
    "all_vids = []\n",
    "token = None\n",
    "while True:\n",
    "    videos = youtube.search().list(\n",
    "        part='id,snippet',\n",
    "        channelId=channel_id,\n",
    "        maxResults=50,\n",
    "        pageToken=token\n",
    "      ).execute()\n",
    "    token = videos.get('nextPageToken', None)\n",
    "    for v in videos['items']:\n",
    "        if 'videoId' in v['id']:\n",
    "            video_ids.append(v['id']['videoId'])\n",
    "            all_vids.append(v)\n",
    "    if not token:\n",
    "        break"
   ]
  },
  {
   "cell_type": "code",
   "execution_count": 10,
   "metadata": {},
   "outputs": [
    {
     "data": {
      "text/plain": [
       "(446, 446)"
      ]
     },
     "execution_count": 10,
     "metadata": {},
     "output_type": "execute_result"
    }
   ],
   "source": [
    "#how many videos are hosted on the Bob Ross channel?\n",
    "len(video_ids), len(all_vids)"
   ]
  },
  {
   "cell_type": "code",
   "execution_count": 11,
   "metadata": {},
   "outputs": [
    {
     "data": {
      "text/plain": [
       "{'etag': '\"DuHzAJ-eQIiCIp7p4ldoVcVAOeY/M74VTqSk8uXMN-IK0xZTj97RvrE\"',\n",
       " 'id': {'kind': 'youtube#video', 'videoId': 'UQ-RTZCOQn0'},\n",
       " 'kind': 'youtube#searchResult',\n",
       " 'snippet': {'channelId': 'UCxcnsr1R5Ge_fbTu5ajt8DQ',\n",
       "  'channelTitle': 'Bob Ross',\n",
       "  'description': \"Season 6 of The Joy of Painting with Bob Ross features the following wonderful painting instructions: Blue River, Nature's Edge, Morning Mist, Whispering ...\",\n",
       "  'liveBroadcastContent': 'none',\n",
       "  'publishedAt': '2016-02-18T21:59:10.000Z',\n",
       "  'thumbnails': {'default': {'height': 90,\n",
       "    'url': 'https://i.ytimg.com/vi/UQ-RTZCOQn0/default.jpg',\n",
       "    'width': 120},\n",
       "   'high': {'height': 360,\n",
       "    'url': 'https://i.ytimg.com/vi/UQ-RTZCOQn0/hqdefault.jpg',\n",
       "    'width': 480},\n",
       "   'medium': {'height': 180,\n",
       "    'url': 'https://i.ytimg.com/vi/UQ-RTZCOQn0/mqdefault.jpg',\n",
       "    'width': 320}},\n",
       "  'title': 'Bob Ross - Arctic Beauty (Season 6 Episode 7)'}}"
      ]
     },
     "execution_count": 11,
     "metadata": {},
     "output_type": "execute_result"
    }
   ],
   "source": [
    "#Whats an example of the information we just gathered?\n",
    "all_vids[5]"
   ]
  },
  {
   "cell_type": "code",
   "execution_count": 12,
   "metadata": {},
   "outputs": [
    {
     "data": {
      "text/plain": [
       "'TohG7F8M3Ls'"
      ]
     },
     "execution_count": 12,
     "metadata": {},
     "output_type": "execute_result"
    }
   ],
   "source": [
    "video_ids[0]"
   ]
  },
  {
   "cell_type": "code",
   "execution_count": 13,
   "metadata": {
    "collapsed": true
   },
   "outputs": [],
   "source": [
    "vid = youtube.videos()"
   ]
  },
  {
   "cell_type": "code",
   "execution_count": 14,
   "metadata": {},
   "outputs": [
    {
     "data": {
      "text/plain": [
       "{'etag': '\"DuHzAJ-eQIiCIp7p4ldoVcVAOeY/tAr09q1XjvqiiqWnGh8Xg2P8mzg\"',\n",
       " 'items': [{'etag': '\"DuHzAJ-eQIiCIp7p4ldoVcVAOeY/0-ze2anWOfyPO-EEuYJurUB2bcs\"',\n",
       "   'id': 'lLWEXRAnQd0',\n",
       "   'kind': 'youtube#video',\n",
       "   'snippet': {'categoryId': '24',\n",
       "    'channelId': 'UCxcnsr1R5Ge_fbTu5ajt8DQ',\n",
       "    'channelTitle': 'Bob Ross',\n",
       "    'defaultAudioLanguage': 'en',\n",
       "    'defaultLanguage': 'en',\n",
       "    'description': 'Take a walk with Bob Ross down a little lakeside path in a secluded place; you’ll delight in the discovery of a small uninhabited island. \\n\\nSeason 29 of The Joy of Painting with Bob Ross features the following wonderful painting instructions: island in the Wilderness, Autumn Oval, Seasonal Progression, Light at the Summit, Countryside Barn, Mountain Lake Falls, Cypress Creek, Trapper’s Cabin, Storm on the Horizon, Pot O’ Posies, A Perfect Winter Day, Aurora’s Dance, and Woodman’s Retreat.\\n\\nSubscribe to the official Bob Ross YouTube channel - http://bit.ly/BobRossSubscribe\\n\\nSeason 29 Playlist: https://www.youtube.com/playlist?list=PLAEQD0ULngi6c0D5_ELtW5p_NLShDktAN\\n\\nThe Joy of Painting Season 20 is now on iTunes! - http://bit.ly/iTunesBobRoss\\n\\nOfficial Bob Ross website - http://www.BobRoss.com\\n\\nOfficial Bob Ross Twitch.tv Stream! - http://twitch.tv/BobRoss\\n\\nOfficial Bob Ross Twitter Account - https://twitter.com/bobrossofficial\\n\\nAll episodes of Bob Ross are now live on Roku - http://bit.ly/BobRossOnRoku\\n\\nOriginally aired on 8/24/1993',\n",
       "    'liveBroadcastContent': 'none',\n",
       "    'localized': {'description': 'Take a walk with Bob Ross down a little lakeside path in a secluded place; you’ll delight in the discovery of a small uninhabited island. \\n\\nSeason 29 of The Joy of Painting with Bob Ross features the following wonderful painting instructions: island in the Wilderness, Autumn Oval, Seasonal Progression, Light at the Summit, Countryside Barn, Mountain Lake Falls, Cypress Creek, Trapper’s Cabin, Storm on the Horizon, Pot O’ Posies, A Perfect Winter Day, Aurora’s Dance, and Woodman’s Retreat.\\n\\nSubscribe to the official Bob Ross YouTube channel - http://bit.ly/BobRossSubscribe\\n\\nSeason 29 Playlist: https://www.youtube.com/playlist?list=PLAEQD0ULngi6c0D5_ELtW5p_NLShDktAN\\n\\nThe Joy of Painting Season 20 is now on iTunes! - http://bit.ly/iTunesBobRoss\\n\\nOfficial Bob Ross website - http://www.BobRoss.com\\n\\nOfficial Bob Ross Twitch.tv Stream! - http://twitch.tv/BobRoss\\n\\nOfficial Bob Ross Twitter Account - https://twitter.com/bobrossofficial\\n\\nAll episodes of Bob Ross are now live on Roku - http://bit.ly/BobRossOnRoku\\n\\nOriginally aired on 8/24/1993',\n",
       "     'title': 'Bob Ross - Island in the Wilderness (Season 29 Episode 1)'},\n",
       "    'publishedAt': '2016-11-28T21:00:02.000Z',\n",
       "    'tags': ['steven ross',\n",
       "     'bob ross inc',\n",
       "     'pastel',\n",
       "     'bob ross joy of painting',\n",
       "     'drawing',\n",
       "     'art',\n",
       "     'mountain',\n",
       "     'bob ross twitch',\n",
       "     'landscape',\n",
       "     'bob ross full episode',\n",
       "     'oil',\n",
       "     'host',\n",
       "     'kappaross',\n",
       "     'the joy of painting',\n",
       "     'coloring',\n",
       "     'twitch',\n",
       "     'happy trees',\n",
       "     'ocean',\n",
       "     'stream',\n",
       "     'wildlife',\n",
       "     'happy accident',\n",
       "     'livestream',\n",
       "     'bob ross asmr',\n",
       "     'paint',\n",
       "     'asmr',\n",
       "     'full episode',\n",
       "     'chill',\n",
       "     'free',\n",
       "     'pbs',\n",
       "     'painting',\n",
       "     'bob ross marathon',\n",
       "     'lake',\n",
       "     'bob ross',\n",
       "     'snow',\n",
       "     'joy of painting',\n",
       "     'happy trails',\n",
       "     'bob ross painting',\n",
       "     'alaska',\n",
       "     'canvas',\n",
       "     'tv show',\n",
       "     'brushes'],\n",
       "    'thumbnails': {'default': {'height': 90,\n",
       "      'url': 'https://i.ytimg.com/vi/lLWEXRAnQd0/default.jpg',\n",
       "      'width': 120},\n",
       "     'high': {'height': 360,\n",
       "      'url': 'https://i.ytimg.com/vi/lLWEXRAnQd0/hqdefault.jpg',\n",
       "      'width': 480},\n",
       "     'maxres': {'height': 720,\n",
       "      'url': 'https://i.ytimg.com/vi/lLWEXRAnQd0/maxresdefault.jpg',\n",
       "      'width': 1280},\n",
       "     'medium': {'height': 180,\n",
       "      'url': 'https://i.ytimg.com/vi/lLWEXRAnQd0/mqdefault.jpg',\n",
       "      'width': 320},\n",
       "     'standard': {'height': 480,\n",
       "      'url': 'https://i.ytimg.com/vi/lLWEXRAnQd0/sddefault.jpg',\n",
       "      'width': 640}},\n",
       "    'title': 'Bob Ross - Island in the Wilderness (Season 29 Episode 1)'},\n",
       "   'statistics': {'commentCount': '21209',\n",
       "    'dislikeCount': '2249',\n",
       "    'favoriteCount': '0',\n",
       "    'likeCount': '152477',\n",
       "    'viewCount': '7529170'}}],\n",
       " 'kind': 'youtube#videoListResponse',\n",
       " 'pageInfo': {'resultsPerPage': 1, 'totalResults': 1}}"
      ]
     },
     "execution_count": 14,
     "metadata": {},
     "output_type": "execute_result"
    }
   ],
   "source": [
    "#example of video information\n",
    "vid.list(part='id,statistics,snippet', \n",
    "         id='lLWEXRAnQd0'\n",
    "        ).execute()"
   ]
  },
  {
   "cell_type": "code",
   "execution_count": 15,
   "metadata": {
    "collapsed": true
   },
   "outputs": [],
   "source": [
    "#gather video stats into one object\n",
    "video_stats = []\n",
    "for video in video_ids:\n",
    "    stats = vid.list(part='id,statistics,snippet', \n",
    "                 id=video\n",
    "            ).execute()\n",
    "    video_stats.append(stats)"
   ]
  },
  {
   "cell_type": "code",
   "execution_count": 16,
   "metadata": {},
   "outputs": [
    {
     "data": {
      "text/plain": [
       "{'etag': '\"DuHzAJ-eQIiCIp7p4ldoVcVAOeY/UGigrReD7VqiPXPFQPGFbj7KTp0\"',\n",
       " 'items': [{'etag': '\"DuHzAJ-eQIiCIp7p4ldoVcVAOeY/YgvQsJek2VuEzG0fcexmeTdG1fY\"',\n",
       "   'id': 'TohG7F8M3Ls',\n",
       "   'kind': 'youtube#video',\n",
       "   'snippet': {'categoryId': '24',\n",
       "    'channelId': 'UCxcnsr1R5Ge_fbTu5ajt8DQ',\n",
       "    'channelTitle': 'Bob Ross',\n",
       "    'defaultAudioLanguage': 'en',\n",
       "    'description': 'Bundle up with Bob Ross when you visit this towering ice mountain as it protects the misty falls and chilly lake in the valley. \\n\\nSeason 28 of The Joy of Painting with Bob Ross features the following wonderful painting instructions: Fisherman’s Trail, A Warm Winter, Under Pastel Skies, Golden Rays of Sunshine, The Magic of Fall, Glacier Lake, The Old Weathered Barn, Deep Forest Falls, Winter’s Grace, Splendor of Autumn, Tranquil Seas, Mountain Serenity, and Home before Nightfall.\\n\\nSubscribe to the official Bob Ross YouTube channel - http://bit.ly/BobRossSubscribe\\n\\nSeason 28 Playlist: https://www.youtube.com/playlist?list=PLAEQD0ULngi6tej39ptiDqix2wd-W6glj\\n\\nThe Joy of Painting Season 20 is now on iTunes! - http://bit.ly/iTunesBobRoss\\n\\nOfficial Bob Ross website - http://www.BobRoss.com\\n\\nOfficial Bob Ross Twitch.tv Stream! - http://twitch.tv/BobRoss\\n\\nOfficial Bob Ross Twitter Account - https://twitter.com/bobrossofficial\\n\\nAll episodes of Bob Ross are now live on Roku - http://bit.ly/BobRossOnRoku\\n\\nOriginally aired on 6/29/1993',\n",
       "    'liveBroadcastContent': 'none',\n",
       "    'localized': {'description': 'Bundle up with Bob Ross when you visit this towering ice mountain as it protects the misty falls and chilly lake in the valley. \\n\\nSeason 28 of The Joy of Painting with Bob Ross features the following wonderful painting instructions: Fisherman’s Trail, A Warm Winter, Under Pastel Skies, Golden Rays of Sunshine, The Magic of Fall, Glacier Lake, The Old Weathered Barn, Deep Forest Falls, Winter’s Grace, Splendor of Autumn, Tranquil Seas, Mountain Serenity, and Home before Nightfall.\\n\\nSubscribe to the official Bob Ross YouTube channel - http://bit.ly/BobRossSubscribe\\n\\nSeason 28 Playlist: https://www.youtube.com/playlist?list=PLAEQD0ULngi6tej39ptiDqix2wd-W6glj\\n\\nThe Joy of Painting Season 20 is now on iTunes! - http://bit.ly/iTunesBobRoss\\n\\nOfficial Bob Ross website - http://www.BobRoss.com\\n\\nOfficial Bob Ross Twitch.tv Stream! - http://twitch.tv/BobRoss\\n\\nOfficial Bob Ross Twitter Account - https://twitter.com/bobrossofficial\\n\\nAll episodes of Bob Ross are now live on Roku - http://bit.ly/BobRossOnRoku\\n\\nOriginally aired on 6/29/1993',\n",
       "     'title': 'Bob Ross - Glacier Lake (Season 28 Episode 6)'},\n",
       "    'publishedAt': '2016-11-20T21:00:01.000Z',\n",
       "    'tags': ['twitch',\n",
       "     'the joy of painting',\n",
       "     'asmr',\n",
       "     'happy trails',\n",
       "     'landscape',\n",
       "     'full episode',\n",
       "     'bob ross joy of painting',\n",
       "     'bob ross painting',\n",
       "     'chill',\n",
       "     'brushes',\n",
       "     'livestream',\n",
       "     'bob ross marathon',\n",
       "     'happy trees',\n",
       "     'bob ross',\n",
       "     'wildlife',\n",
       "     'drawing',\n",
       "     'host',\n",
       "     'paint',\n",
       "     'art',\n",
       "     'snow',\n",
       "     'bob ross inc',\n",
       "     'happy accident',\n",
       "     'lake',\n",
       "     'steven ross',\n",
       "     'kappaross',\n",
       "     'bob ross full episode',\n",
       "     'pastel',\n",
       "     'bob ross asmr',\n",
       "     'bob ross twitch',\n",
       "     'coloring',\n",
       "     'oil',\n",
       "     'mountain',\n",
       "     'stream',\n",
       "     'ocean',\n",
       "     'alaska',\n",
       "     'free',\n",
       "     'pbs',\n",
       "     'canvas',\n",
       "     'tv show',\n",
       "     'painting',\n",
       "     'joy of painting'],\n",
       "    'thumbnails': {'default': {'height': 90,\n",
       "      'url': 'https://i.ytimg.com/vi/TohG7F8M3Ls/default.jpg',\n",
       "      'width': 120},\n",
       "     'high': {'height': 360,\n",
       "      'url': 'https://i.ytimg.com/vi/TohG7F8M3Ls/hqdefault.jpg',\n",
       "      'width': 480},\n",
       "     'maxres': {'height': 720,\n",
       "      'url': 'https://i.ytimg.com/vi/TohG7F8M3Ls/maxresdefault.jpg',\n",
       "      'width': 1280},\n",
       "     'medium': {'height': 180,\n",
       "      'url': 'https://i.ytimg.com/vi/TohG7F8M3Ls/mqdefault.jpg',\n",
       "      'width': 320},\n",
       "     'standard': {'height': 480,\n",
       "      'url': 'https://i.ytimg.com/vi/TohG7F8M3Ls/sddefault.jpg',\n",
       "      'width': 640}},\n",
       "    'title': 'Bob Ross - Glacier Lake (Season 28 Episode 6)'},\n",
       "   'statistics': {'commentCount': '1589',\n",
       "    'dislikeCount': '311',\n",
       "    'favoriteCount': '0',\n",
       "    'likeCount': '14005',\n",
       "    'viewCount': '1160972'}}],\n",
       " 'kind': 'youtube#videoListResponse',\n",
       " 'pageInfo': {'resultsPerPage': 1, 'totalResults': 1}}"
      ]
     },
     "execution_count": 16,
     "metadata": {},
     "output_type": "execute_result"
    }
   ],
   "source": [
    "video_stats[0]"
   ]
  },
  {
   "cell_type": "code",
   "execution_count": 18,
   "metadata": {
    "collapsed": true
   },
   "outputs": [],
   "source": [
    "#export the json into a txt file for further processing\n",
    "import json\n",
    "with open('../data/video_json.txt', 'w') as outfile:\n",
    "    json.dump(video_stats, outfile)"
   ]
  }
 ],
 "metadata": {
  "kernelspec": {
   "display_name": "Python 3",
   "language": "python",
   "name": "python3"
  },
  "language_info": {
   "codemirror_mode": {
    "name": "ipython",
    "version": 3
   },
   "file_extension": ".py",
   "mimetype": "text/x-python",
   "name": "python",
   "nbconvert_exporter": "python",
   "pygments_lexer": "ipython3",
   "version": "3.6.1"
  }
 },
 "nbformat": 4,
 "nbformat_minor": 2
}
