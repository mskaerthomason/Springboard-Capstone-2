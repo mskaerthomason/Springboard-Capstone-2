{
 "cells": [
  {
   "cell_type": "code",
   "execution_count": 1,
   "metadata": {
    "collapsed": true
   },
   "outputs": [],
   "source": [
    "import pandas as pd\n",
    "import numpy as np\n",
    "import matplotlib.pyplot as plt\n",
    "import seaborn as sns\n",
    "sns.color_palette(\"muted\")\n",
    "import scipy.stats as stats\n",
    "%matplotlib inline\n",
    "import scipy.stats as stats\n",
    "from datetime import datetime as dt\n",
    "pd.set_option('display.max_columns', 100)\n",
    "pd.set_option('display.max_rows', 100)"
   ]
  },
  {
   "cell_type": "code",
   "execution_count": 2,
   "metadata": {},
   "outputs": [
    {
     "name": "stdout",
     "output_type": "stream",
     "text": [
      "There are 26 viral videos is this data set.\n"
     ]
    }
   ],
   "source": [
    "data = pd.read_csv('../data/data.csv', index_col=0)\n",
    "\n",
    "threshold = 900000\n",
    "data['viral'] = data['viewCount'] >= threshold\n",
    "data['viral'] = data['viral'] * 1\n",
    "print('There are', (len(data.viral[data.viral ==1])), 'viral videos is this data set.')"
   ]
  },
  {
   "cell_type": "markdown",
   "metadata": {},
   "source": [
    "### Training data"
   ]
  },
  {
   "cell_type": "code",
   "execution_count": 3,
   "metadata": {},
   "outputs": [
    {
     "name": "stderr",
     "output_type": "stream",
     "text": [
      "/Users/everettwetchler/Library/Python/3.6/lib/python/site-packages/sklearn/cross_validation.py:41: DeprecationWarning: This module was deprecated in version 0.18 in favor of the model_selection module into which all the refactored classes and functions are moved. Also note that the interface of the new CV iterators are different from that of this module. This module will be removed in 0.20.\n",
      "  \"This module will be removed in 0.20.\", DeprecationWarning)\n"
     ]
    }
   ],
   "source": [
    "from sklearn.tree import DecisionTreeClassifier\n",
    "from sklearn.model_selection import train_test_split\n",
    "from sklearn import cross_validation as cv\n",
    "from sklearn.model_selection import GridSearchCV\n",
    "from sklearn.metrics import f1_score, precision_score, recall_score, accuracy_score, confusion_matrix, mean_squared_error, roc_auc_score\n",
    "from sklearn import decomposition\n",
    "from sklearn.preprocessing import MinMaxScaler"
   ]
  },
  {
   "cell_type": "code",
   "execution_count": 4,
   "metadata": {
    "collapsed": true
   },
   "outputs": [],
   "source": [
    "y = data['viral']\n",
    "x = data.iloc[:,2:36]"
   ]
  },
  {
   "cell_type": "code",
   "execution_count": 5,
   "metadata": {
    "collapsed": true
   },
   "outputs": [],
   "source": [
    "# 60% train and 40% test data\n",
    "X_train, X_test, y_train, y_test = train_test_split(x, y, test_size=0.4, random_state=42, stratify=y)"
   ]
  },
  {
   "cell_type": "markdown",
   "metadata": {},
   "source": [
    "### Baseline model"
   ]
  },
  {
   "cell_type": "code",
   "execution_count": 6,
   "metadata": {},
   "outputs": [
    {
     "name": "stdout",
     "output_type": "stream",
     "text": [
      "Baseline (super dumb model, always predicts 'not viral'):\n",
      "  - Accuracy: 91.74%\n",
      "  - MSE: 0.0826\n",
      "  - AUC: 0.50\n"
     ]
    }
   ],
   "source": [
    "dumb_pred = 1 if y_train.mean() > 0.5 else 0\n",
    "print(\"Baseline (super dumb model, always predicts '%s'):\" % ('viral' if dumb_pred else 'not viral'))\n",
    "print(\"  - Accuracy: %.2f%%\" % (100 * np.mean(y_test == dumb_pred)))\n",
    "print(\"  - MSE: %.4f\" % np.mean((y_test - dumb_pred) ** 2))\n",
    "print(\"  - AUC: 0.50\")"
   ]
  },
  {
   "cell_type": "markdown",
   "metadata": {},
   "source": [
    "### Real models"
   ]
  },
  {
   "cell_type": "code",
   "execution_count": 7,
   "metadata": {
    "collapsed": true
   },
   "outputs": [],
   "source": [
    "def score_all_the_ways(model):\n",
    "    y_pred = tree.predict(X_test)\n",
    "    print(\"Confusion matrix:\")\n",
    "    print(confusion_matrix(y_test, y_pred))\n",
    "    print(\"Accuracy = %.2f%%\" % (100 * accuracy_score(y_pred, y_test)))\n",
    "    y_pred_proba = tree.predict_proba(X_test)[:, 1]\n",
    "    print(\"Mean squared error = %.4f\" % mean_squared_error(y_pred_proba, y_test))\n",
    "    print(\"AUC = %.4f\" % roc_auc_score(y_test, y_pred_proba))"
   ]
  },
  {
   "cell_type": "code",
   "execution_count": 8,
   "metadata": {
    "collapsed": true
   },
   "outputs": [],
   "source": [
    "SCORING_METRICS = ['accuracy', 'neg_mean_squared_error', 'roc_auc']"
   ]
  },
  {
   "cell_type": "markdown",
   "metadata": {},
   "source": [
    "### Single decision tree, single fold, no parameters set"
   ]
  },
  {
   "cell_type": "code",
   "execution_count": 9,
   "metadata": {},
   "outputs": [
    {
     "name": "stdout",
     "output_type": "stream",
     "text": [
      "Confusion matrix:\n",
      "[[100  11]\n",
      " [  8   2]]\n",
      "Accuracy = 84.30%\n",
      "Mean squared error = 0.1632\n",
      "AUC = 0.5396\n"
     ]
    }
   ],
   "source": [
    "tree = DecisionTreeClassifier()\n",
    "tree.fit(X_train, y_train)\n",
    "score_all_the_ways(tree)"
   ]
  },
  {
   "cell_type": "markdown",
   "metadata": {},
   "source": [
    "### Single decision tree, grid search over `max_depth` parameter, using cross validation"
   ]
  },
  {
   "cell_type": "code",
   "execution_count": 10,
   "metadata": {},
   "outputs": [
    {
     "name": "stdout",
     "output_type": "stream",
     "text": [
      "\n",
      "**** Optimizing for: accuracy\n",
      "Best model: {'max_depth': 1}\n",
      "Confusion matrix:\n",
      "[[111   0]\n",
      " [ 10   0]]\n",
      "Accuracy = 91.74%\n",
      "Mean squared error = 0.0783\n",
      "AUC = 0.4658\n",
      "\n",
      "**** Optimizing for: neg_mean_squared_error\n",
      "Best model: {'max_depth': 1}\n",
      "Confusion matrix:\n",
      "[[111   0]\n",
      " [ 10   0]]\n",
      "Accuracy = 91.74%\n",
      "Mean squared error = 0.0783\n",
      "AUC = 0.4658\n",
      "\n",
      "**** Optimizing for: roc_auc\n",
      "Best model: {'max_depth': 4}\n",
      "Confusion matrix:\n",
      "[[111   0]\n",
      " [ 10   0]]\n",
      "Accuracy = 91.74%\n",
      "Mean squared error = 0.0872\n",
      "AUC = 0.5532\n"
     ]
    }
   ],
   "source": [
    "for metric in SCORING_METRICS:\n",
    "    print(\"\\n**** Optimizing for:\", metric)\n",
    "\n",
    "    parameters = {'max_depth':range(1,20)}\n",
    "    tree = GridSearchCV(DecisionTreeClassifier(), parameters, n_jobs=4, scoring=metric, cv=5)\n",
    "    tree.fit(X_train, y_train)\n",
    "    tree_model = tree.best_estimator_\n",
    "\n",
    "    print(\"Best model:\", tree.best_params_)\n",
    "    score_all_the_ways(tree)"
   ]
  },
  {
   "cell_type": "markdown",
   "metadata": {},
   "source": [
    "### Random forest, no configuration"
   ]
  },
  {
   "cell_type": "code",
   "execution_count": 11,
   "metadata": {
    "collapsed": true
   },
   "outputs": [],
   "source": [
    "from sklearn.ensemble import RandomForestClassifier\n",
    "from sklearn.metrics import roc_auc_score"
   ]
  },
  {
   "cell_type": "code",
   "execution_count": 12,
   "metadata": {},
   "outputs": [
    {
     "name": "stdout",
     "output_type": "stream",
     "text": [
      "Confusion matrix:\n",
      "[[111   0]\n",
      " [ 10   0]]\n",
      "Accuracy = 91.74%\n",
      "Mean squared error = 0.0872\n",
      "AUC = 0.5532\n"
     ]
    }
   ],
   "source": [
    "forest = RandomForestClassifier(oob_score = True, random_state=42, n_estimators =100)\n",
    "forest.fit(X_train, y_train)\n",
    "score_all_the_ways(forest)"
   ]
  },
  {
   "cell_type": "markdown",
   "metadata": {},
   "source": [
    "### Random forest, grid search over `max_depth` and `n_estimators`"
   ]
  },
  {
   "cell_type": "code",
   "execution_count": 13,
   "metadata": {},
   "outputs": [
    {
     "name": "stdout",
     "output_type": "stream",
     "text": [
      "\n",
      "**** Optimizing for: accuracy\n",
      "Best model: {'max_depth': 1, 'n_estimators': 10}\n",
      "Confusion matrix:\n",
      "[[111   0]\n",
      " [ 10   0]]\n",
      "Accuracy = 91.74%\n",
      "Mean squared error = 0.0872\n",
      "AUC = 0.5532\n",
      "\n",
      "**** Optimizing for: neg_mean_squared_error\n",
      "Best model: {'max_depth': 1, 'n_estimators': 1}\n",
      "Confusion matrix:\n",
      "[[111   0]\n",
      " [ 10   0]]\n",
      "Accuracy = 91.74%\n",
      "Mean squared error = 0.0872\n",
      "AUC = 0.5532\n",
      "\n",
      "**** Optimizing for: roc_auc\n",
      "Best model: {'max_depth': 1, 'n_estimators': 1}\n",
      "Confusion matrix:\n",
      "[[111   0]\n",
      " [ 10   0]]\n",
      "Accuracy = 91.74%\n",
      "Mean squared error = 0.0872\n",
      "AUC = 0.5532\n"
     ]
    }
   ],
   "source": [
    "for metric in SCORING_METRICS:\n",
    "    print(\"\\n**** Optimizing for:\", metric)\n",
    "\n",
    "    parameters = {'max_depth': range(1, 10), 'n_estimators' : [1,10,100]}\n",
    "    forest = GridSearchCV(RandomForestClassifier(), parameters, n_jobs=4)\n",
    "    forest.fit(X_train, y_train)\n",
    "    print(\"Best model:\", forest.best_params_)\n",
    "    forest_model = forest.best_estimator_\n",
    "    score_all_the_ways(forest_model)"
   ]
  },
  {
   "cell_type": "code",
   "execution_count": null,
   "metadata": {
    "collapsed": true
   },
   "outputs": [],
   "source": []
  }
 ],
 "metadata": {
  "kernelspec": {
   "display_name": "Python 3",
   "language": "python",
   "name": "python3"
  },
  "language_info": {
   "codemirror_mode": {
    "name": "ipython",
    "version": 3
   },
   "file_extension": ".py",
   "mimetype": "text/x-python",
   "name": "python",
   "nbconvert_exporter": "python",
   "pygments_lexer": "ipython3",
   "version": "3.6.1"
  }
 },
 "nbformat": 4,
 "nbformat_minor": 2
}
