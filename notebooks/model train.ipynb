{
 "cells": [
  {
   "cell_type": "code",
   "execution_count": 1,
   "metadata": {
    "collapsed": true
   },
   "outputs": [],
   "source": [
    "import pandas as pd\n",
    "import numpy as np\n",
    "import matplotlib.pyplot as plt\n",
    "import seaborn as sns\n",
    "sns.color_palette(\"muted\")\n",
    "import scipy.stats as stats\n",
    "%matplotlib inline\n",
    "import scipy.stats as stats\n",
    "from datetime import datetime as dt\n",
    "pd.set_option('display.max_columns', 100)\n",
    "pd.set_option('display.max_rows', 100)"
   ]
  },
  {
   "cell_type": "code",
   "execution_count": 2,
   "metadata": {
    "collapsed": true
   },
   "outputs": [],
   "source": [
    "data = pd.read_csv('../data/data.csv', index_col=0)"
   ]
  },
  {
   "cell_type": "code",
   "execution_count": 3,
   "metadata": {},
   "outputs": [
    {
     "data": {
      "text/html": [
       "<div>\n",
       "<style>\n",
       "    .dataframe thead tr:only-child th {\n",
       "        text-align: right;\n",
       "    }\n",
       "\n",
       "    .dataframe thead th {\n",
       "        text-align: left;\n",
       "    }\n",
       "\n",
       "    .dataframe tbody tr th {\n",
       "        vertical-align: top;\n",
       "    }\n",
       "</style>\n",
       "<table border=\"1\" class=\"dataframe\">\n",
       "  <thead>\n",
       "    <tr style=\"text-align: right;\">\n",
       "      <th></th>\n",
       "      <th>apple_frame</th>\n",
       "      <th>barn</th>\n",
       "      <th>beach</th>\n",
       "      <th>bridge</th>\n",
       "      <th>bushes</th>\n",
       "      <th>cabin</th>\n",
       "      <th>cirrus</th>\n",
       "      <th>cliff</th>\n",
       "      <th>clouds</th>\n",
       "      <th>conifer</th>\n",
       "      <th>cumulus</th>\n",
       "      <th>deciduous</th>\n",
       "      <th>fence</th>\n",
       "      <th>flowers</th>\n",
       "      <th>fog</th>\n",
       "      <th>grass</th>\n",
       "      <th>hills</th>\n",
       "      <th>lake</th>\n",
       "      <th>mountain</th>\n",
       "      <th>mountains</th>\n",
       "      <th>night</th>\n",
       "      <th>ocean</th>\n",
       "      <th>palm_trees</th>\n",
       "      <th>path</th>\n",
       "      <th>river</th>\n",
       "      <th>rocks</th>\n",
       "      <th>snow</th>\n",
       "      <th>snowy_mountain</th>\n",
       "      <th>structure</th>\n",
       "      <th>sun</th>\n",
       "      <th>tree</th>\n",
       "      <th>trees</th>\n",
       "      <th>waterfall</th>\n",
       "      <th>waves</th>\n",
       "      <th>winter</th>\n",
       "      <th>viewCount</th>\n",
       "      <th>likeCount</th>\n",
       "      <th>favoriteCount</th>\n",
       "      <th>dislikeCount</th>\n",
       "      <th>commentCount</th>\n",
       "      <th>season_num</th>\n",
       "      <th>episode_num</th>\n",
       "    </tr>\n",
       "  </thead>\n",
       "  <tbody>\n",
       "    <tr>\n",
       "      <th>count</th>\n",
       "      <td>302.0</td>\n",
       "      <td>302.000000</td>\n",
       "      <td>302.000000</td>\n",
       "      <td>302.000000</td>\n",
       "      <td>302.000000</td>\n",
       "      <td>302.000000</td>\n",
       "      <td>302.000000</td>\n",
       "      <td>302.000000</td>\n",
       "      <td>302.000000</td>\n",
       "      <td>302.000000</td>\n",
       "      <td>302.000000</td>\n",
       "      <td>302.000000</td>\n",
       "      <td>302.000000</td>\n",
       "      <td>302.000000</td>\n",
       "      <td>302.000000</td>\n",
       "      <td>302.000000</td>\n",
       "      <td>302.000000</td>\n",
       "      <td>302.000000</td>\n",
       "      <td>302.000000</td>\n",
       "      <td>302.000000</td>\n",
       "      <td>302.000000</td>\n",
       "      <td>302.000000</td>\n",
       "      <td>302.000000</td>\n",
       "      <td>302.000000</td>\n",
       "      <td>302.000000</td>\n",
       "      <td>302.000000</td>\n",
       "      <td>302.000000</td>\n",
       "      <td>302.000000</td>\n",
       "      <td>302.000000</td>\n",
       "      <td>302.000000</td>\n",
       "      <td>302.000000</td>\n",
       "      <td>302.000000</td>\n",
       "      <td>302.000000</td>\n",
       "      <td>302.000000</td>\n",
       "      <td>302.000000</td>\n",
       "      <td>3.020000e+02</td>\n",
       "      <td>302.000000</td>\n",
       "      <td>302.0</td>\n",
       "      <td>302.000000</td>\n",
       "      <td>302.000000</td>\n",
       "      <td>302.000000</td>\n",
       "      <td>302.000000</td>\n",
       "    </tr>\n",
       "    <tr>\n",
       "      <th>mean</th>\n",
       "      <td>0.0</td>\n",
       "      <td>0.049669</td>\n",
       "      <td>0.062914</td>\n",
       "      <td>0.016556</td>\n",
       "      <td>0.307947</td>\n",
       "      <td>0.168874</td>\n",
       "      <td>0.069536</td>\n",
       "      <td>0.019868</td>\n",
       "      <td>0.453642</td>\n",
       "      <td>0.536424</td>\n",
       "      <td>0.198675</td>\n",
       "      <td>0.569536</td>\n",
       "      <td>0.062914</td>\n",
       "      <td>0.019868</td>\n",
       "      <td>0.056291</td>\n",
       "      <td>0.364238</td>\n",
       "      <td>0.046358</td>\n",
       "      <td>0.380795</td>\n",
       "      <td>0.410596</td>\n",
       "      <td>0.264901</td>\n",
       "      <td>0.033113</td>\n",
       "      <td>0.082781</td>\n",
       "      <td>0.026490</td>\n",
       "      <td>0.112583</td>\n",
       "      <td>0.304636</td>\n",
       "      <td>0.182119</td>\n",
       "      <td>0.195364</td>\n",
       "      <td>0.268212</td>\n",
       "      <td>0.215232</td>\n",
       "      <td>0.109272</td>\n",
       "      <td>0.907285</td>\n",
       "      <td>0.847682</td>\n",
       "      <td>0.119205</td>\n",
       "      <td>0.076159</td>\n",
       "      <td>0.178808</td>\n",
       "      <td>3.675232e+05</td>\n",
       "      <td>4143.774834</td>\n",
       "      <td>0.0</td>\n",
       "      <td>79.006623</td>\n",
       "      <td>529.334437</td>\n",
       "      <td>16.228477</td>\n",
       "      <td>6.745033</td>\n",
       "    </tr>\n",
       "    <tr>\n",
       "      <th>std</th>\n",
       "      <td>0.0</td>\n",
       "      <td>0.217621</td>\n",
       "      <td>0.243211</td>\n",
       "      <td>0.127813</td>\n",
       "      <td>0.462411</td>\n",
       "      <td>0.375263</td>\n",
       "      <td>0.254786</td>\n",
       "      <td>0.139777</td>\n",
       "      <td>0.498673</td>\n",
       "      <td>0.499499</td>\n",
       "      <td>0.399665</td>\n",
       "      <td>0.495963</td>\n",
       "      <td>0.243211</td>\n",
       "      <td>0.139777</td>\n",
       "      <td>0.230866</td>\n",
       "      <td>0.482015</td>\n",
       "      <td>0.210607</td>\n",
       "      <td>0.486388</td>\n",
       "      <td>0.492758</td>\n",
       "      <td>0.442013</td>\n",
       "      <td>0.179228</td>\n",
       "      <td>0.276009</td>\n",
       "      <td>0.160854</td>\n",
       "      <td>0.316607</td>\n",
       "      <td>0.461017</td>\n",
       "      <td>0.386583</td>\n",
       "      <td>0.397139</td>\n",
       "      <td>0.443764</td>\n",
       "      <td>0.411665</td>\n",
       "      <td>0.312497</td>\n",
       "      <td>0.290514</td>\n",
       "      <td>0.359925</td>\n",
       "      <td>0.324568</td>\n",
       "      <td>0.265693</td>\n",
       "      <td>0.383827</td>\n",
       "      <td>7.015058e+05</td>\n",
       "      <td>10705.224967</td>\n",
       "      <td>0.0</td>\n",
       "      <td>173.482256</td>\n",
       "      <td>1498.433912</td>\n",
       "      <td>9.137058</td>\n",
       "      <td>3.873999</td>\n",
       "    </tr>\n",
       "    <tr>\n",
       "      <th>min</th>\n",
       "      <td>0.0</td>\n",
       "      <td>0.000000</td>\n",
       "      <td>0.000000</td>\n",
       "      <td>0.000000</td>\n",
       "      <td>0.000000</td>\n",
       "      <td>0.000000</td>\n",
       "      <td>0.000000</td>\n",
       "      <td>0.000000</td>\n",
       "      <td>0.000000</td>\n",
       "      <td>0.000000</td>\n",
       "      <td>0.000000</td>\n",
       "      <td>0.000000</td>\n",
       "      <td>0.000000</td>\n",
       "      <td>0.000000</td>\n",
       "      <td>0.000000</td>\n",
       "      <td>0.000000</td>\n",
       "      <td>0.000000</td>\n",
       "      <td>0.000000</td>\n",
       "      <td>0.000000</td>\n",
       "      <td>0.000000</td>\n",
       "      <td>0.000000</td>\n",
       "      <td>0.000000</td>\n",
       "      <td>0.000000</td>\n",
       "      <td>0.000000</td>\n",
       "      <td>0.000000</td>\n",
       "      <td>0.000000</td>\n",
       "      <td>0.000000</td>\n",
       "      <td>0.000000</td>\n",
       "      <td>0.000000</td>\n",
       "      <td>0.000000</td>\n",
       "      <td>0.000000</td>\n",
       "      <td>0.000000</td>\n",
       "      <td>0.000000</td>\n",
       "      <td>0.000000</td>\n",
       "      <td>0.000000</td>\n",
       "      <td>4.365400e+04</td>\n",
       "      <td>586.000000</td>\n",
       "      <td>0.0</td>\n",
       "      <td>6.000000</td>\n",
       "      <td>44.000000</td>\n",
       "      <td>1.000000</td>\n",
       "      <td>1.000000</td>\n",
       "    </tr>\n",
       "    <tr>\n",
       "      <th>25%</th>\n",
       "      <td>0.0</td>\n",
       "      <td>0.000000</td>\n",
       "      <td>0.000000</td>\n",
       "      <td>0.000000</td>\n",
       "      <td>0.000000</td>\n",
       "      <td>0.000000</td>\n",
       "      <td>0.000000</td>\n",
       "      <td>0.000000</td>\n",
       "      <td>0.000000</td>\n",
       "      <td>0.000000</td>\n",
       "      <td>0.000000</td>\n",
       "      <td>0.000000</td>\n",
       "      <td>0.000000</td>\n",
       "      <td>0.000000</td>\n",
       "      <td>0.000000</td>\n",
       "      <td>0.000000</td>\n",
       "      <td>0.000000</td>\n",
       "      <td>0.000000</td>\n",
       "      <td>0.000000</td>\n",
       "      <td>0.000000</td>\n",
       "      <td>0.000000</td>\n",
       "      <td>0.000000</td>\n",
       "      <td>0.000000</td>\n",
       "      <td>0.000000</td>\n",
       "      <td>0.000000</td>\n",
       "      <td>0.000000</td>\n",
       "      <td>0.000000</td>\n",
       "      <td>0.000000</td>\n",
       "      <td>0.000000</td>\n",
       "      <td>0.000000</td>\n",
       "      <td>1.000000</td>\n",
       "      <td>1.000000</td>\n",
       "      <td>0.000000</td>\n",
       "      <td>0.000000</td>\n",
       "      <td>0.000000</td>\n",
       "      <td>9.909150e+04</td>\n",
       "      <td>1144.250000</td>\n",
       "      <td>0.0</td>\n",
       "      <td>18.250000</td>\n",
       "      <td>160.250000</td>\n",
       "      <td>8.000000</td>\n",
       "      <td>3.000000</td>\n",
       "    </tr>\n",
       "    <tr>\n",
       "      <th>50%</th>\n",
       "      <td>0.0</td>\n",
       "      <td>0.000000</td>\n",
       "      <td>0.000000</td>\n",
       "      <td>0.000000</td>\n",
       "      <td>0.000000</td>\n",
       "      <td>0.000000</td>\n",
       "      <td>0.000000</td>\n",
       "      <td>0.000000</td>\n",
       "      <td>0.000000</td>\n",
       "      <td>1.000000</td>\n",
       "      <td>0.000000</td>\n",
       "      <td>1.000000</td>\n",
       "      <td>0.000000</td>\n",
       "      <td>0.000000</td>\n",
       "      <td>0.000000</td>\n",
       "      <td>0.000000</td>\n",
       "      <td>0.000000</td>\n",
       "      <td>0.000000</td>\n",
       "      <td>0.000000</td>\n",
       "      <td>0.000000</td>\n",
       "      <td>0.000000</td>\n",
       "      <td>0.000000</td>\n",
       "      <td>0.000000</td>\n",
       "      <td>0.000000</td>\n",
       "      <td>0.000000</td>\n",
       "      <td>0.000000</td>\n",
       "      <td>0.000000</td>\n",
       "      <td>0.000000</td>\n",
       "      <td>0.000000</td>\n",
       "      <td>0.000000</td>\n",
       "      <td>1.000000</td>\n",
       "      <td>1.000000</td>\n",
       "      <td>0.000000</td>\n",
       "      <td>0.000000</td>\n",
       "      <td>0.000000</td>\n",
       "      <td>1.540085e+05</td>\n",
       "      <td>1617.000000</td>\n",
       "      <td>0.0</td>\n",
       "      <td>31.000000</td>\n",
       "      <td>229.000000</td>\n",
       "      <td>16.000000</td>\n",
       "      <td>6.500000</td>\n",
       "    </tr>\n",
       "    <tr>\n",
       "      <th>75%</th>\n",
       "      <td>0.0</td>\n",
       "      <td>0.000000</td>\n",
       "      <td>0.000000</td>\n",
       "      <td>0.000000</td>\n",
       "      <td>1.000000</td>\n",
       "      <td>0.000000</td>\n",
       "      <td>0.000000</td>\n",
       "      <td>0.000000</td>\n",
       "      <td>1.000000</td>\n",
       "      <td>1.000000</td>\n",
       "      <td>0.000000</td>\n",
       "      <td>1.000000</td>\n",
       "      <td>0.000000</td>\n",
       "      <td>0.000000</td>\n",
       "      <td>0.000000</td>\n",
       "      <td>1.000000</td>\n",
       "      <td>0.000000</td>\n",
       "      <td>1.000000</td>\n",
       "      <td>1.000000</td>\n",
       "      <td>1.000000</td>\n",
       "      <td>0.000000</td>\n",
       "      <td>0.000000</td>\n",
       "      <td>0.000000</td>\n",
       "      <td>0.000000</td>\n",
       "      <td>1.000000</td>\n",
       "      <td>0.000000</td>\n",
       "      <td>0.000000</td>\n",
       "      <td>1.000000</td>\n",
       "      <td>0.000000</td>\n",
       "      <td>0.000000</td>\n",
       "      <td>1.000000</td>\n",
       "      <td>1.000000</td>\n",
       "      <td>0.000000</td>\n",
       "      <td>0.000000</td>\n",
       "      <td>0.000000</td>\n",
       "      <td>3.323312e+05</td>\n",
       "      <td>3099.500000</td>\n",
       "      <td>0.0</td>\n",
       "      <td>75.750000</td>\n",
       "      <td>374.750000</td>\n",
       "      <td>24.000000</td>\n",
       "      <td>10.000000</td>\n",
       "    </tr>\n",
       "    <tr>\n",
       "      <th>max</th>\n",
       "      <td>0.0</td>\n",
       "      <td>1.000000</td>\n",
       "      <td>1.000000</td>\n",
       "      <td>1.000000</td>\n",
       "      <td>1.000000</td>\n",
       "      <td>1.000000</td>\n",
       "      <td>1.000000</td>\n",
       "      <td>1.000000</td>\n",
       "      <td>1.000000</td>\n",
       "      <td>1.000000</td>\n",
       "      <td>1.000000</td>\n",
       "      <td>1.000000</td>\n",
       "      <td>1.000000</td>\n",
       "      <td>1.000000</td>\n",
       "      <td>1.000000</td>\n",
       "      <td>1.000000</td>\n",
       "      <td>1.000000</td>\n",
       "      <td>1.000000</td>\n",
       "      <td>1.000000</td>\n",
       "      <td>1.000000</td>\n",
       "      <td>1.000000</td>\n",
       "      <td>1.000000</td>\n",
       "      <td>1.000000</td>\n",
       "      <td>1.000000</td>\n",
       "      <td>1.000000</td>\n",
       "      <td>1.000000</td>\n",
       "      <td>1.000000</td>\n",
       "      <td>1.000000</td>\n",
       "      <td>1.000000</td>\n",
       "      <td>1.000000</td>\n",
       "      <td>1.000000</td>\n",
       "      <td>1.000000</td>\n",
       "      <td>1.000000</td>\n",
       "      <td>1.000000</td>\n",
       "      <td>1.000000</td>\n",
       "      <td>7.529170e+06</td>\n",
       "      <td>152477.000000</td>\n",
       "      <td>0.0</td>\n",
       "      <td>2249.000000</td>\n",
       "      <td>21209.000000</td>\n",
       "      <td>31.000000</td>\n",
       "      <td>13.000000</td>\n",
       "    </tr>\n",
       "  </tbody>\n",
       "</table>\n",
       "</div>"
      ],
      "text/plain": [
       "       apple_frame        barn       beach      bridge      bushes  \\\n",
       "count        302.0  302.000000  302.000000  302.000000  302.000000   \n",
       "mean           0.0    0.049669    0.062914    0.016556    0.307947   \n",
       "std            0.0    0.217621    0.243211    0.127813    0.462411   \n",
       "min            0.0    0.000000    0.000000    0.000000    0.000000   \n",
       "25%            0.0    0.000000    0.000000    0.000000    0.000000   \n",
       "50%            0.0    0.000000    0.000000    0.000000    0.000000   \n",
       "75%            0.0    0.000000    0.000000    0.000000    1.000000   \n",
       "max            0.0    1.000000    1.000000    1.000000    1.000000   \n",
       "\n",
       "            cabin      cirrus       cliff      clouds     conifer     cumulus  \\\n",
       "count  302.000000  302.000000  302.000000  302.000000  302.000000  302.000000   \n",
       "mean     0.168874    0.069536    0.019868    0.453642    0.536424    0.198675   \n",
       "std      0.375263    0.254786    0.139777    0.498673    0.499499    0.399665   \n",
       "min      0.000000    0.000000    0.000000    0.000000    0.000000    0.000000   \n",
       "25%      0.000000    0.000000    0.000000    0.000000    0.000000    0.000000   \n",
       "50%      0.000000    0.000000    0.000000    0.000000    1.000000    0.000000   \n",
       "75%      0.000000    0.000000    0.000000    1.000000    1.000000    0.000000   \n",
       "max      1.000000    1.000000    1.000000    1.000000    1.000000    1.000000   \n",
       "\n",
       "        deciduous       fence     flowers         fog       grass       hills  \\\n",
       "count  302.000000  302.000000  302.000000  302.000000  302.000000  302.000000   \n",
       "mean     0.569536    0.062914    0.019868    0.056291    0.364238    0.046358   \n",
       "std      0.495963    0.243211    0.139777    0.230866    0.482015    0.210607   \n",
       "min      0.000000    0.000000    0.000000    0.000000    0.000000    0.000000   \n",
       "25%      0.000000    0.000000    0.000000    0.000000    0.000000    0.000000   \n",
       "50%      1.000000    0.000000    0.000000    0.000000    0.000000    0.000000   \n",
       "75%      1.000000    0.000000    0.000000    0.000000    1.000000    0.000000   \n",
       "max      1.000000    1.000000    1.000000    1.000000    1.000000    1.000000   \n",
       "\n",
       "             lake    mountain   mountains       night       ocean  palm_trees  \\\n",
       "count  302.000000  302.000000  302.000000  302.000000  302.000000  302.000000   \n",
       "mean     0.380795    0.410596    0.264901    0.033113    0.082781    0.026490   \n",
       "std      0.486388    0.492758    0.442013    0.179228    0.276009    0.160854   \n",
       "min      0.000000    0.000000    0.000000    0.000000    0.000000    0.000000   \n",
       "25%      0.000000    0.000000    0.000000    0.000000    0.000000    0.000000   \n",
       "50%      0.000000    0.000000    0.000000    0.000000    0.000000    0.000000   \n",
       "75%      1.000000    1.000000    1.000000    0.000000    0.000000    0.000000   \n",
       "max      1.000000    1.000000    1.000000    1.000000    1.000000    1.000000   \n",
       "\n",
       "             path       river       rocks        snow  snowy_mountain  \\\n",
       "count  302.000000  302.000000  302.000000  302.000000      302.000000   \n",
       "mean     0.112583    0.304636    0.182119    0.195364        0.268212   \n",
       "std      0.316607    0.461017    0.386583    0.397139        0.443764   \n",
       "min      0.000000    0.000000    0.000000    0.000000        0.000000   \n",
       "25%      0.000000    0.000000    0.000000    0.000000        0.000000   \n",
       "50%      0.000000    0.000000    0.000000    0.000000        0.000000   \n",
       "75%      0.000000    1.000000    0.000000    0.000000        1.000000   \n",
       "max      1.000000    1.000000    1.000000    1.000000        1.000000   \n",
       "\n",
       "        structure         sun        tree       trees   waterfall       waves  \\\n",
       "count  302.000000  302.000000  302.000000  302.000000  302.000000  302.000000   \n",
       "mean     0.215232    0.109272    0.907285    0.847682    0.119205    0.076159   \n",
       "std      0.411665    0.312497    0.290514    0.359925    0.324568    0.265693   \n",
       "min      0.000000    0.000000    0.000000    0.000000    0.000000    0.000000   \n",
       "25%      0.000000    0.000000    1.000000    1.000000    0.000000    0.000000   \n",
       "50%      0.000000    0.000000    1.000000    1.000000    0.000000    0.000000   \n",
       "75%      0.000000    0.000000    1.000000    1.000000    0.000000    0.000000   \n",
       "max      1.000000    1.000000    1.000000    1.000000    1.000000    1.000000   \n",
       "\n",
       "           winter     viewCount      likeCount  favoriteCount  dislikeCount  \\\n",
       "count  302.000000  3.020000e+02     302.000000          302.0    302.000000   \n",
       "mean     0.178808  3.675232e+05    4143.774834            0.0     79.006623   \n",
       "std      0.383827  7.015058e+05   10705.224967            0.0    173.482256   \n",
       "min      0.000000  4.365400e+04     586.000000            0.0      6.000000   \n",
       "25%      0.000000  9.909150e+04    1144.250000            0.0     18.250000   \n",
       "50%      0.000000  1.540085e+05    1617.000000            0.0     31.000000   \n",
       "75%      0.000000  3.323312e+05    3099.500000            0.0     75.750000   \n",
       "max      1.000000  7.529170e+06  152477.000000            0.0   2249.000000   \n",
       "\n",
       "       commentCount  season_num  episode_num  \n",
       "count    302.000000  302.000000   302.000000  \n",
       "mean     529.334437   16.228477     6.745033  \n",
       "std     1498.433912    9.137058     3.873999  \n",
       "min       44.000000    1.000000     1.000000  \n",
       "25%      160.250000    8.000000     3.000000  \n",
       "50%      229.000000   16.000000     6.500000  \n",
       "75%      374.750000   24.000000    10.000000  \n",
       "max    21209.000000   31.000000    13.000000  "
      ]
     },
     "execution_count": 3,
     "metadata": {},
     "output_type": "execute_result"
    }
   ],
   "source": [
    "data.describe()"
   ]
  },
  {
   "cell_type": "markdown",
   "metadata": {},
   "source": [
    "### Viral videos"
   ]
  },
  {
   "cell_type": "markdown",
   "metadata": {},
   "source": [
    "Set up dichotomous variable for 'viral video', where viral videos have views greater than 900,000 (see data_merge notebook)."
   ]
  },
  {
   "cell_type": "code",
   "execution_count": 15,
   "metadata": {},
   "outputs": [
    {
     "name": "stdout",
     "output_type": "stream",
     "text": [
      "The max number of views is 7529170.0\n",
      "The min number of views is 43654.0\n"
     ]
    }
   ],
   "source": [
    "print('The max number of views is', data.viewCount.max())\n",
    "print('The min number of views is', data.viewCount.min())"
   ]
  },
  {
   "cell_type": "code",
   "execution_count": 16,
   "metadata": {
    "collapsed": true
   },
   "outputs": [],
   "source": [
    "threshold = 900000\n",
    "data['viral'] = data['viewCount'] >= threshold\n",
    "data['viral'] = data['viral'] * 1"
   ]
  },
  {
   "cell_type": "code",
   "execution_count": 17,
   "metadata": {},
   "outputs": [
    {
     "name": "stdout",
     "output_type": "stream",
     "text": [
      "There are 26 viral videos is this data set.\n"
     ]
    }
   ],
   "source": [
    "print('There are', (len(data.viral[data.viral ==1])), 'viral videos is this data set.')"
   ]
  },
  {
   "cell_type": "markdown",
   "metadata": {},
   "source": [
    "### Training data"
   ]
  },
  {
   "cell_type": "code",
   "execution_count": 26,
   "metadata": {},
   "outputs": [],
   "source": [
    "from sklearn.tree import DecisionTreeClassifier\n",
    "from sklearn.model_selection import train_test_split\n",
    "from sklearn import cross_validation as cv\n",
    "from sklearn.model_selection import GridSearchCV\n",
    "from sklearn.metrics import f1_score, precision_score, recall_score, accuracy_score, confusion_matrix\n",
    "from sklearn import decomposition\n",
    "from sklearn.preprocessing import MinMaxScaler"
   ]
  },
  {
   "cell_type": "code",
   "execution_count": 20,
   "metadata": {
    "collapsed": true
   },
   "outputs": [],
   "source": [
    "y = data['viral']\n",
    "x = data.iloc[:,2:36]"
   ]
  },
  {
   "cell_type": "code",
   "execution_count": 21,
   "metadata": {},
   "outputs": [
    {
     "data": {
      "text/html": [
       "<div>\n",
       "<style>\n",
       "    .dataframe thead tr:only-child th {\n",
       "        text-align: right;\n",
       "    }\n",
       "\n",
       "    .dataframe thead th {\n",
       "        text-align: left;\n",
       "    }\n",
       "\n",
       "    .dataframe tbody tr th {\n",
       "        vertical-align: top;\n",
       "    }\n",
       "</style>\n",
       "<table border=\"1\" class=\"dataframe\">\n",
       "  <thead>\n",
       "    <tr style=\"text-align: right;\">\n",
       "      <th></th>\n",
       "      <th>barn</th>\n",
       "      <th>beach</th>\n",
       "      <th>bridge</th>\n",
       "      <th>bushes</th>\n",
       "      <th>cabin</th>\n",
       "      <th>cirrus</th>\n",
       "      <th>cliff</th>\n",
       "      <th>clouds</th>\n",
       "      <th>conifer</th>\n",
       "      <th>cumulus</th>\n",
       "      <th>deciduous</th>\n",
       "      <th>fence</th>\n",
       "      <th>flowers</th>\n",
       "      <th>fog</th>\n",
       "      <th>grass</th>\n",
       "      <th>hills</th>\n",
       "      <th>lake</th>\n",
       "      <th>mountain</th>\n",
       "      <th>mountains</th>\n",
       "      <th>night</th>\n",
       "      <th>ocean</th>\n",
       "      <th>palm_trees</th>\n",
       "      <th>path</th>\n",
       "      <th>river</th>\n",
       "      <th>rocks</th>\n",
       "      <th>snow</th>\n",
       "      <th>snowy_mountain</th>\n",
       "      <th>structure</th>\n",
       "      <th>sun</th>\n",
       "      <th>tree</th>\n",
       "      <th>trees</th>\n",
       "      <th>waterfall</th>\n",
       "      <th>waves</th>\n",
       "      <th>winter</th>\n",
       "    </tr>\n",
       "  </thead>\n",
       "  <tbody>\n",
       "    <tr>\n",
       "      <th>a mild winter's day</th>\n",
       "      <td>0</td>\n",
       "      <td>0</td>\n",
       "      <td>0</td>\n",
       "      <td>0</td>\n",
       "      <td>0</td>\n",
       "      <td>0</td>\n",
       "      <td>0</td>\n",
       "      <td>1</td>\n",
       "      <td>1</td>\n",
       "      <td>0</td>\n",
       "      <td>1</td>\n",
       "      <td>0</td>\n",
       "      <td>0</td>\n",
       "      <td>0</td>\n",
       "      <td>0</td>\n",
       "      <td>0</td>\n",
       "      <td>0</td>\n",
       "      <td>0</td>\n",
       "      <td>0</td>\n",
       "      <td>0</td>\n",
       "      <td>0</td>\n",
       "      <td>0</td>\n",
       "      <td>0</td>\n",
       "      <td>1</td>\n",
       "      <td>0</td>\n",
       "      <td>1</td>\n",
       "      <td>0</td>\n",
       "      <td>0</td>\n",
       "      <td>0</td>\n",
       "      <td>1</td>\n",
       "      <td>1</td>\n",
       "      <td>0</td>\n",
       "      <td>0</td>\n",
       "      <td>1</td>\n",
       "    </tr>\n",
       "    <tr>\n",
       "      <th>a pretty autumn day</th>\n",
       "      <td>0</td>\n",
       "      <td>0</td>\n",
       "      <td>0</td>\n",
       "      <td>0</td>\n",
       "      <td>0</td>\n",
       "      <td>0</td>\n",
       "      <td>0</td>\n",
       "      <td>1</td>\n",
       "      <td>1</td>\n",
       "      <td>0</td>\n",
       "      <td>1</td>\n",
       "      <td>0</td>\n",
       "      <td>0</td>\n",
       "      <td>0</td>\n",
       "      <td>1</td>\n",
       "      <td>0</td>\n",
       "      <td>0</td>\n",
       "      <td>1</td>\n",
       "      <td>0</td>\n",
       "      <td>0</td>\n",
       "      <td>0</td>\n",
       "      <td>0</td>\n",
       "      <td>0</td>\n",
       "      <td>1</td>\n",
       "      <td>1</td>\n",
       "      <td>0</td>\n",
       "      <td>1</td>\n",
       "      <td>0</td>\n",
       "      <td>0</td>\n",
       "      <td>1</td>\n",
       "      <td>1</td>\n",
       "      <td>0</td>\n",
       "      <td>0</td>\n",
       "      <td>0</td>\n",
       "    </tr>\n",
       "    <tr>\n",
       "      <th>a walk in the woods</th>\n",
       "      <td>0</td>\n",
       "      <td>0</td>\n",
       "      <td>0</td>\n",
       "      <td>1</td>\n",
       "      <td>0</td>\n",
       "      <td>0</td>\n",
       "      <td>0</td>\n",
       "      <td>0</td>\n",
       "      <td>0</td>\n",
       "      <td>0</td>\n",
       "      <td>1</td>\n",
       "      <td>0</td>\n",
       "      <td>0</td>\n",
       "      <td>0</td>\n",
       "      <td>1</td>\n",
       "      <td>0</td>\n",
       "      <td>0</td>\n",
       "      <td>0</td>\n",
       "      <td>0</td>\n",
       "      <td>0</td>\n",
       "      <td>0</td>\n",
       "      <td>0</td>\n",
       "      <td>0</td>\n",
       "      <td>1</td>\n",
       "      <td>0</td>\n",
       "      <td>0</td>\n",
       "      <td>0</td>\n",
       "      <td>0</td>\n",
       "      <td>0</td>\n",
       "      <td>1</td>\n",
       "      <td>1</td>\n",
       "      <td>0</td>\n",
       "      <td>0</td>\n",
       "      <td>0</td>\n",
       "    </tr>\n",
       "    <tr>\n",
       "      <th>absolutely autumn</th>\n",
       "      <td>0</td>\n",
       "      <td>0</td>\n",
       "      <td>0</td>\n",
       "      <td>1</td>\n",
       "      <td>0</td>\n",
       "      <td>0</td>\n",
       "      <td>0</td>\n",
       "      <td>1</td>\n",
       "      <td>0</td>\n",
       "      <td>1</td>\n",
       "      <td>1</td>\n",
       "      <td>0</td>\n",
       "      <td>0</td>\n",
       "      <td>0</td>\n",
       "      <td>1</td>\n",
       "      <td>0</td>\n",
       "      <td>0</td>\n",
       "      <td>0</td>\n",
       "      <td>0</td>\n",
       "      <td>0</td>\n",
       "      <td>0</td>\n",
       "      <td>0</td>\n",
       "      <td>0</td>\n",
       "      <td>1</td>\n",
       "      <td>0</td>\n",
       "      <td>0</td>\n",
       "      <td>0</td>\n",
       "      <td>0</td>\n",
       "      <td>0</td>\n",
       "      <td>1</td>\n",
       "      <td>1</td>\n",
       "      <td>0</td>\n",
       "      <td>0</td>\n",
       "      <td>0</td>\n",
       "    </tr>\n",
       "    <tr>\n",
       "      <th>after the rain</th>\n",
       "      <td>0</td>\n",
       "      <td>0</td>\n",
       "      <td>0</td>\n",
       "      <td>0</td>\n",
       "      <td>0</td>\n",
       "      <td>0</td>\n",
       "      <td>0</td>\n",
       "      <td>0</td>\n",
       "      <td>0</td>\n",
       "      <td>0</td>\n",
       "      <td>1</td>\n",
       "      <td>0</td>\n",
       "      <td>0</td>\n",
       "      <td>0</td>\n",
       "      <td>0</td>\n",
       "      <td>0</td>\n",
       "      <td>0</td>\n",
       "      <td>0</td>\n",
       "      <td>0</td>\n",
       "      <td>0</td>\n",
       "      <td>0</td>\n",
       "      <td>0</td>\n",
       "      <td>1</td>\n",
       "      <td>0</td>\n",
       "      <td>0</td>\n",
       "      <td>0</td>\n",
       "      <td>0</td>\n",
       "      <td>0</td>\n",
       "      <td>0</td>\n",
       "      <td>1</td>\n",
       "      <td>1</td>\n",
       "      <td>0</td>\n",
       "      <td>0</td>\n",
       "      <td>0</td>\n",
       "    </tr>\n",
       "  </tbody>\n",
       "</table>\n",
       "</div>"
      ],
      "text/plain": [
       "                     barn  beach  bridge  bushes  cabin  cirrus  cliff  \\\n",
       "a mild winter's day     0      0       0       0      0       0      0   \n",
       "a pretty autumn day     0      0       0       0      0       0      0   \n",
       "a walk in the woods     0      0       0       1      0       0      0   \n",
       "absolutely autumn       0      0       0       1      0       0      0   \n",
       "after the rain          0      0       0       0      0       0      0   \n",
       "\n",
       "                     clouds  conifer  cumulus  deciduous  fence  flowers  fog  \\\n",
       "a mild winter's day       1        1        0          1      0        0    0   \n",
       "a pretty autumn day       1        1        0          1      0        0    0   \n",
       "a walk in the woods       0        0        0          1      0        0    0   \n",
       "absolutely autumn         1        0        1          1      0        0    0   \n",
       "after the rain            0        0        0          1      0        0    0   \n",
       "\n",
       "                     grass  hills  lake  mountain  mountains  night  ocean  \\\n",
       "a mild winter's day      0      0     0         0          0      0      0   \n",
       "a pretty autumn day      1      0     0         1          0      0      0   \n",
       "a walk in the woods      1      0     0         0          0      0      0   \n",
       "absolutely autumn        1      0     0         0          0      0      0   \n",
       "after the rain           0      0     0         0          0      0      0   \n",
       "\n",
       "                     palm_trees  path  river  rocks  snow  snowy_mountain  \\\n",
       "a mild winter's day           0     0      1      0     1               0   \n",
       "a pretty autumn day           0     0      1      1     0               1   \n",
       "a walk in the woods           0     0      1      0     0               0   \n",
       "absolutely autumn             0     0      1      0     0               0   \n",
       "after the rain                0     1      0      0     0               0   \n",
       "\n",
       "                     structure  sun  tree  trees  waterfall  waves  winter  \n",
       "a mild winter's day          0    0     1      1          0      0       1  \n",
       "a pretty autumn day          0    0     1      1          0      0       0  \n",
       "a walk in the woods          0    0     1      1          0      0       0  \n",
       "absolutely autumn            0    0     1      1          0      0       0  \n",
       "after the rain               0    0     1      1          0      0       0  "
      ]
     },
     "execution_count": 21,
     "metadata": {},
     "output_type": "execute_result"
    }
   ],
   "source": [
    "x.head()"
   ]
  },
  {
   "cell_type": "code",
   "execution_count": 22,
   "metadata": {
    "collapsed": true
   },
   "outputs": [],
   "source": [
    "# 60% train and 40% test data\n",
    "X_train, X_test, y_train, y_test = train_test_split(x, y, test_size=0.4, random_state=42, stratify=y)"
   ]
  },
  {
   "cell_type": "markdown",
   "metadata": {},
   "source": [
    "### Decision Tree"
   ]
  },
  {
   "cell_type": "code",
   "execution_count": 33,
   "metadata": {},
   "outputs": [
    {
     "data": {
      "text/plain": [
       "DecisionTreeClassifier(class_weight=None, criterion='gini', max_depth=None,\n",
       "            max_features=None, max_leaf_nodes=None,\n",
       "            min_impurity_split=1e-07, min_samples_leaf=1,\n",
       "            min_samples_split=2, min_weight_fraction_leaf=0.0,\n",
       "            presort=False, random_state=None, splitter='best')"
      ]
     },
     "execution_count": 33,
     "metadata": {},
     "output_type": "execute_result"
    }
   ],
   "source": [
    "tree = DecisionTreeClassifier()\n",
    "tree"
   ]
  },
  {
   "cell_type": "code",
   "execution_count": 29,
   "metadata": {},
   "outputs": [
    {
     "name": "stdout",
     "output_type": "stream",
     "text": [
      "0.900552486188 {'max_depth': 4}\n"
     ]
    }
   ],
   "source": [
    "parameters = {'max_depth':range(3,20)}\n",
    "tree = GridSearchCV(DecisionTreeClassifier(), parameters, n_jobs=4)\n",
    "tree.fit(X_train, y_train)\n",
    "tree_model = tree.best_estimator_\n",
    "print (tree.best_score_, tree.best_params_) "
   ]
  },
  {
   "cell_type": "markdown",
   "metadata": {},
   "source": [
    "Test model"
   ]
  },
  {
   "cell_type": "code",
   "execution_count": 35,
   "metadata": {},
   "outputs": [
    {
     "name": "stdout",
     "output_type": "stream",
     "text": [
      "F1 score                      0.000000\n",
      "Test accuracy                 0.917355\n"
     ]
    },
    {
     "name": "stderr",
     "output_type": "stream",
     "text": [
      "/anaconda/lib/python3.6/site-packages/sklearn/metrics/classification.py:1113: UndefinedMetricWarning: F-score is ill-defined and being set to 0.0 due to no predicted samples.\n",
      "  'precision', 'predicted', average, warn_for)\n"
     ]
    }
   ],
   "source": [
    "y_pred = tree_model.predict(X_test)\n",
    "\n",
    "print(\"{:30}{:3f}\".format('F1 score', f1_score(y_test, y_pred)))\n",
    "print(\"{:30}{:3f}\".format('Test accuracy', accuracy_score(y_test, y_pred)))"
   ]
  },
  {
   "cell_type": "code",
   "execution_count": 37,
   "metadata": {},
   "outputs": [
    {
     "name": "stdout",
     "output_type": "stream",
     "text": [
      "Feature importance\n",
      "barn                          0.029136\n",
      "beach                         0.098024\n",
      "bridge                        0.000000\n",
      "bushes                        0.000000\n",
      "cabin                         0.000000\n",
      "cirrus                        0.000000\n",
      "cliff                         0.000000\n",
      "clouds                        0.000000\n",
      "conifer                       0.000000\n",
      "cumulus                       0.000000\n",
      "deciduous                     0.102478\n",
      "fence                         0.000000\n",
      "flowers                       0.000000\n",
      "fog                           0.312315\n",
      "grass                         0.027898\n",
      "hills                         0.000000\n",
      "lake                          0.127744\n",
      "mountain                      0.135280\n",
      "mountains                     0.000000\n",
      "night                         0.000000\n",
      "ocean                         0.000000\n",
      "palm_trees                    0.000000\n",
      "path                          0.000000\n",
      "river                         0.000000\n",
      "rocks                         0.000000\n",
      "snow                          0.049023\n",
      "snowy_mountain                0.000000\n",
      "structure                     0.118102\n",
      "sun                           0.000000\n",
      "tree                          0.000000\n",
      "trees                         0.000000\n",
      "waterfall                     0.000000\n",
      "waves                         0.000000\n",
      "winter                        0.000000\n"
     ]
    }
   ],
   "source": [
    "# scores\n",
    "print('Feature importance')\n",
    "for idx, val in enumerate(tree_model.feature_importances_):\n",
    "    print(\"{:30}{:3f}\".format(x.columns[idx], val))"
   ]
  },
  {
   "cell_type": "code",
   "execution_count": 38,
   "metadata": {},
   "outputs": [
    {
     "name": "stdout",
     "output_type": "stream",
     "text": [
      "Confusion Matrix\n",
      "[[111   0]\n",
      " [ 10   0]]\n"
     ]
    }
   ],
   "source": [
    "print('Confusion Matrix')\n",
    "print(confusion_matrix(y_test, y_pred))"
   ]
  },
  {
   "cell_type": "code",
   "execution_count": 53,
   "metadata": {},
   "outputs": [
    {
     "data": {
      "text/plain": [
       "0.0"
      ]
     },
     "execution_count": 53,
     "metadata": {},
     "output_type": "execute_result"
    }
   ],
   "source": [
    "from sklearn.metrics import recall_score\n",
    "\n",
    "recall_score(y_pred=y_pred, y_true=y_test)"
   ]
  },
  {
   "cell_type": "markdown",
   "metadata": {},
   "source": [
    "### Random Forest"
   ]
  },
  {
   "cell_type": "code",
   "execution_count": 65,
   "metadata": {
    "collapsed": true
   },
   "outputs": [],
   "source": [
    "from sklearn.ensemble import RandomForestClassifier\n",
    "from sklearn.metrics import roc_auc_score"
   ]
  },
  {
   "cell_type": "code",
   "execution_count": 62,
   "metadata": {},
   "outputs": [
    {
     "data": {
      "text/plain": [
       "RandomForestClassifier(bootstrap=True, class_weight=None, criterion='gini',\n",
       "            max_depth=None, max_features='auto', max_leaf_nodes=None,\n",
       "            min_impurity_split=1e-07, min_samples_leaf=1,\n",
       "            min_samples_split=2, min_weight_fraction_leaf=0.0,\n",
       "            n_estimators=100, n_jobs=1, oob_score=True, random_state=42,\n",
       "            verbose=0, warm_start=False)"
      ]
     },
     "execution_count": 62,
     "metadata": {},
     "output_type": "execute_result"
    }
   ],
   "source": [
    "forest = RandomForestClassifier(oob_score = True, random_state=42, n_estimators =100)\n",
    "forest"
   ]
  },
  {
   "cell_type": "code",
   "execution_count": 66,
   "metadata": {},
   "outputs": [
    {
     "data": {
      "text/plain": [
       "0.9173553719008265"
      ]
     },
     "execution_count": 66,
     "metadata": {},
     "output_type": "execute_result"
    }
   ],
   "source": [
    "forest_model = forest.fit(X_train, y_train)\n",
    "forest_model.score(X_test, y_test)"
   ]
  },
  {
   "cell_type": "code",
   "execution_count": 81,
   "metadata": {},
   "outputs": [
    {
     "data": {
      "text/plain": [
       "dict_keys(['bootstrap', 'class_weight', 'criterion', 'max_depth', 'max_features', 'max_leaf_nodes', 'min_impurity_split', 'min_samples_leaf', 'min_samples_split', 'min_weight_fraction_leaf', 'n_estimators', 'n_jobs', 'oob_score', 'random_state', 'verbose', 'warm_start'])"
      ]
     },
     "execution_count": 81,
     "metadata": {},
     "output_type": "execute_result"
    }
   ],
   "source": [
    "RandomForestClassifier().get_params().keys()"
   ]
  },
  {
   "cell_type": "code",
   "execution_count": 83,
   "metadata": {},
   "outputs": [
    {
     "name": "stdout",
     "output_type": "stream",
     "text": [
      "0.906077348066 {'n_estimators': 10}\n"
     ]
    }
   ],
   "source": [
    "parameters = {'n_estimators' : [1,5,10,50,100,200,500]}\n",
    "forest = GridSearchCV(RandomForestClassifier(), parameters, n_jobs=4)\n",
    "forest.fit(X_train, y_train)\n",
    "forest_model = forest.best_estimator_\n",
    "print (forest.best_score_, forest.best_params_) "
   ]
  },
  {
   "cell_type": "code",
   "execution_count": 85,
   "metadata": {},
   "outputs": [
    {
     "name": "stdout",
     "output_type": "stream",
     "text": [
      "F1 score                      0.000000\n",
      "Test accuracy                 0.900826\n"
     ]
    }
   ],
   "source": [
    "y_pred = forest_model.predict(X_test)\n",
    "\n",
    "print(\"{:30}{:3f}\".format('F1 score', f1_score(y_test, y_pred)))\n",
    "print(\"{:30}{:3f}\".format('Test accuracy', accuracy_score(y_test, y_pred)))"
   ]
  },
  {
   "cell_type": "code",
   "execution_count": 86,
   "metadata": {},
   "outputs": [
    {
     "name": "stdout",
     "output_type": "stream",
     "text": [
      "Confusion Matrix\n",
      "[[109   2]\n",
      " [ 10   0]]\n"
     ]
    }
   ],
   "source": [
    "print('Confusion Matrix')\n",
    "print(confusion_matrix(y_test, y_pred))"
   ]
  },
  {
   "cell_type": "code",
   "execution_count": 87,
   "metadata": {},
   "outputs": [
    {
     "data": {
      "text/plain": [
       "0.0"
      ]
     },
     "execution_count": 87,
     "metadata": {},
     "output_type": "execute_result"
    }
   ],
   "source": [
    "recall_score(y_pred=y_pred, y_true=y_test)"
   ]
  },
  {
   "cell_type": "code",
   "execution_count": 88,
   "metadata": {},
   "outputs": [
    {
     "name": "stdout",
     "output_type": "stream",
     "text": [
      "Feature importance\n",
      "barn                          0.007083\n",
      "beach                         0.020471\n",
      "bridge                        0.002923\n",
      "bushes                        0.082450\n",
      "cabin                         0.027631\n",
      "cirrus                        0.035761\n",
      "cliff                         0.000523\n",
      "clouds                        0.041742\n",
      "conifer                       0.053177\n",
      "cumulus                       0.031120\n",
      "deciduous                     0.064614\n",
      "fence                         0.002235\n",
      "flowers                       0.000323\n",
      "fog                           0.010058\n",
      "grass                         0.047075\n",
      "hills                         0.006272\n",
      "lake                          0.097608\n",
      "mountain                      0.062562\n",
      "mountains                     0.076774\n",
      "night                         0.021229\n",
      "ocean                         0.001942\n",
      "palm_trees                    0.003587\n",
      "path                          0.052673\n",
      "river                         0.038579\n",
      "rocks                         0.022220\n",
      "snow                          0.019500\n",
      "snowy_mountain                0.032147\n",
      "structure                     0.012597\n",
      "sun                           0.009285\n",
      "tree                          0.000264\n",
      "trees                         0.040321\n",
      "waterfall                     0.053698\n",
      "waves                         0.007482\n",
      "winter                        0.014070\n"
     ]
    }
   ],
   "source": [
    "# scores\n",
    "print('Feature importance')\n",
    "for idx, val in enumerate(forest_model.feature_importances_):\n",
    "    print(\"{:30}{:3f}\".format(x.columns[idx], val))"
   ]
  },
  {
   "cell_type": "markdown",
   "metadata": {},
   "source": [
    "---"
   ]
  },
  {
   "cell_type": "markdown",
   "metadata": {},
   "source": [
    "Same but with randomized search cross validation (bigger compenent of parameters to tune)\n",
    "https://towardsdatascience.com/hyperparameter-tuning-the-random-forest-in-python-using-scikit-learn-28d2aa77dd74"
   ]
  },
  {
   "cell_type": "markdown",
   "metadata": {},
   "source": [
    "Random Forest with randomized search cross validation"
   ]
  },
  {
   "cell_type": "code",
   "execution_count": 91,
   "metadata": {},
   "outputs": [
    {
     "name": "stdout",
     "output_type": "stream",
     "text": [
      "{'bootstrap': [True, False],\n",
      " 'max_depth': [10, 20, 30, 40, 50, 60, 70, 80, 90, 100, 110, None],\n",
      " 'max_features': ['auto', 'sqrt'],\n",
      " 'min_samples_leaf': [1, 2, 4],\n",
      " 'min_samples_split': [2, 5, 10],\n",
      " 'n_estimators': [200, 400, 600, 800, 1000, 1200, 1400, 1600, 1800, 2000]}\n"
     ]
    }
   ],
   "source": [
    "from sklearn.model_selection import RandomizedSearchCV\n",
    "from pprint import pprint\n",
    "\n",
    "n_estimators = [int(x) for x in np.linspace(start = 200, stop = 2000, num = 10)]\n",
    "max_features = ['auto', 'sqrt']\n",
    "max_depth = [int(x) for x in np.linspace(10, 110, num = 11)]\n",
    "max_depth.append(None)\n",
    "min_samples_split = [2, 5, 10]\n",
    "min_samples_leaf = [1, 2, 4]\n",
    "bootstrap = [True, False]\n",
    "random_grid = {'n_estimators': n_estimators,\n",
    "               'max_features': max_features,\n",
    "               'max_depth': max_depth,\n",
    "               'min_samples_split': min_samples_split,\n",
    "               'min_samples_leaf': min_samples_leaf,\n",
    "               'bootstrap': bootstrap}\n",
    "pprint(random_grid)"
   ]
  },
  {
   "cell_type": "code",
   "execution_count": 97,
   "metadata": {},
   "outputs": [
    {
     "data": {
      "text/plain": [
       "RandomizedSearchCV(cv=3, error_score='raise',\n",
       "          estimator=RandomForestClassifier(bootstrap=True, class_weight=None, criterion='gini',\n",
       "            max_depth=None, max_features='auto', max_leaf_nodes=None,\n",
       "            min_impurity_split=1e-07, min_samples_leaf=1,\n",
       "            min_samples_split=2, min_weight_fraction_leaf=0.0,\n",
       "            n_estimators=10, n_jobs=1, oob_score=False, random_state=None,\n",
       "            verbose=0, warm_start=False),\n",
       "          fit_params={}, iid=True, n_iter=100, n_jobs=-1,\n",
       "          param_distributions={'n_estimators': [200, 400, 600, 800, 1000, 1200, 1400, 1600, 1800, 2000], 'max_features': ['auto', 'sqrt'], 'max_depth': [10, 20, 30, 40, 50, 60, 70, 80, 90, 100, 110, None], 'min_samples_split': [2, 5, 10], 'min_samples_leaf': [1, 2, 4], 'bootstrap': [True, False]},\n",
       "          pre_dispatch='2*n_jobs', random_state=42, refit=True,\n",
       "          return_train_score=True, scoring=None, verbose=0)"
      ]
     },
     "execution_count": 97,
     "metadata": {},
     "output_type": "execute_result"
    }
   ],
   "source": [
    "forest = RandomForestClassifier()\n",
    "forest_random = RandomizedSearchCV(estimator = forest, param_distributions = random_grid, \n",
    "                                   n_iter = 100, cv = 3, verbose=0, random_state=42, n_jobs = -1, )\n",
    "\n",
    "forest_random.fit(X_train, y_train)"
   ]
  },
  {
   "cell_type": "code",
   "execution_count": 98,
   "metadata": {},
   "outputs": [
    {
     "data": {
      "text/plain": [
       "{'bootstrap': True,\n",
       " 'max_depth': 30,\n",
       " 'max_features': 'sqrt',\n",
       " 'min_samples_leaf': 1,\n",
       " 'min_samples_split': 5,\n",
       " 'n_estimators': 400}"
      ]
     },
     "execution_count": 98,
     "metadata": {},
     "output_type": "execute_result"
    }
   ],
   "source": [
    "forest_random.best_params_"
   ]
  },
  {
   "cell_type": "code",
   "execution_count": 99,
   "metadata": {},
   "outputs": [
    {
     "name": "stdout",
     "output_type": "stream",
     "text": [
      "F1 score                      0.000000\n",
      "Test accuracy                 0.917355\n"
     ]
    },
    {
     "name": "stderr",
     "output_type": "stream",
     "text": [
      "/anaconda/lib/python3.6/site-packages/sklearn/metrics/classification.py:1113: UndefinedMetricWarning: F-score is ill-defined and being set to 0.0 due to no predicted samples.\n",
      "  'precision', 'predicted', average, warn_for)\n"
     ]
    }
   ],
   "source": [
    "y_pred = forest_random.predict(X_test)\n",
    "\n",
    "print(\"{:30}{:3f}\".format('F1 score', f1_score(y_test, y_pred)))\n",
    "print(\"{:30}{:3f}\".format('Test accuracy', accuracy_score(y_test, y_pred)))"
   ]
  },
  {
   "cell_type": "code",
   "execution_count": 100,
   "metadata": {},
   "outputs": [
    {
     "name": "stdout",
     "output_type": "stream",
     "text": [
      "Confusion Matrix\n",
      "[[111   0]\n",
      " [ 10   0]]\n"
     ]
    }
   ],
   "source": [
    "print('Confusion Matrix')\n",
    "print(confusion_matrix(y_test, y_pred))"
   ]
  }
 ],
 "metadata": {
  "kernelspec": {
   "display_name": "Python 3",
   "language": "python",
   "name": "python3"
  },
  "language_info": {
   "codemirror_mode": {
    "name": "ipython",
    "version": 3
   },
   "file_extension": ".py",
   "mimetype": "text/x-python",
   "name": "python",
   "nbconvert_exporter": "python",
   "pygments_lexer": "ipython3",
   "version": "3.6.1"
  }
 },
 "nbformat": 4,
 "nbformat_minor": 2
}
