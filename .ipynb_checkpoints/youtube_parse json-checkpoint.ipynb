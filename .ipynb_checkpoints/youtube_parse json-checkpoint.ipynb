{
 "cells": [
  {
   "cell_type": "code",
   "execution_count": 1,
   "metadata": {
    "collapsed": true
   },
   "outputs": [],
   "source": [
    "import pandas as pd\n",
    "import numpy as np\n",
    "import matplotlib.pyplot as plt\n",
    "import seaborn as sns\n",
    "import scipy.stats as stats\n",
    "from datetime import datetime as dt\n",
    "%matplotlib inline\n",
    "pd.set_option('display.max_columns', 100)\n",
    "pd.set_option('display.max_rows', 100)"
   ]
  },
  {
   "cell_type": "markdown",
   "metadata": {},
   "source": [
    "Read json text"
   ]
  },
  {
   "cell_type": "code",
   "execution_count": 3,
   "metadata": {},
   "outputs": [
    {
     "data": {
      "text/plain": [
       "{'etag': '\"DuHzAJ-eQIiCIp7p4ldoVcVAOeY/Sc7wrmO-ayFpGV4E1tgm6d2rmY4\"',\n",
       " 'items': [{'etag': '\"DuHzAJ-eQIiCIp7p4ldoVcVAOeY/ZbuaG07r4lhthDQ-WCVFBVYrUdA\"',\n",
       "   'id': 'kJFB6rH3z2A',\n",
       "   'kind': 'youtube#video',\n",
       "   'statistics': {'commentCount': '2314',\n",
       "    'dislikeCount': '330',\n",
       "    'favoriteCount': '0',\n",
       "    'likeCount': '17582',\n",
       "    'viewCount': '1403034'}}],\n",
       " 'kind': 'youtube#videoListResponse',\n",
       " 'pageInfo': {'resultsPerPage': 1, 'totalResults': 1}}"
      ]
     },
     "execution_count": 3,
     "metadata": {},
     "output_type": "execute_result"
    }
   ],
   "source": [
    "import json\n",
    "\n",
    "json_data = json.loads(open('video_stats.txt').read())\n",
    "json_data[1]"
   ]
  },
  {
   "cell_type": "markdown",
   "metadata": {},
   "source": [
    "This sample entry looks like the relevant information in in ```items```, which is a list with just one entry.  Is that true?"
   ]
  },
  {
   "cell_type": "code",
   "execution_count": 4,
   "metadata": {},
   "outputs": [
    {
     "data": {
      "text/plain": [
       "True"
      ]
     },
     "execution_count": 4,
     "metadata": {},
     "output_type": "execute_result"
    }
   ],
   "source": [
    "all(len(js['items']) == 1 for js in json_data)"
   ]
  },
  {
   "cell_type": "markdown",
   "metadata": {},
   "source": [
    "Define a function to extract parts from the ```items``` list"
   ]
  },
  {
   "cell_type": "code",
   "execution_count": 5,
   "metadata": {
    "collapsed": true
   },
   "outputs": [],
   "source": [
    "def extract_record(js):\n",
    "    js = js['items'][0]\n",
    "    record = {}\n",
    "    record['id'] = js['id']\n",
    "    record['etag'] = js['etag']\n",
    "    for stat, value in js['statistics'].items():\n",
    "        record[stat] = int(value)\n",
    "    return record"
   ]
  },
  {
   "cell_type": "code",
   "execution_count": 7,
   "metadata": {},
   "outputs": [
    {
     "name": "stdout",
     "output_type": "stream",
     "text": [
      "Read 418 video records\n"
     ]
    },
    {
     "data": {
      "text/html": [
       "<div>\n",
       "<style>\n",
       "    .dataframe thead tr:only-child th {\n",
       "        text-align: right;\n",
       "    }\n",
       "\n",
       "    .dataframe thead th {\n",
       "        text-align: left;\n",
       "    }\n",
       "\n",
       "    .dataframe tbody tr th {\n",
       "        vertical-align: top;\n",
       "    }\n",
       "</style>\n",
       "<table border=\"1\" class=\"dataframe\">\n",
       "  <thead>\n",
       "    <tr style=\"text-align: right;\">\n",
       "      <th></th>\n",
       "      <th>commentCount</th>\n",
       "      <th>dislikeCount</th>\n",
       "      <th>etag</th>\n",
       "      <th>favoriteCount</th>\n",
       "      <th>id</th>\n",
       "      <th>likeCount</th>\n",
       "      <th>viewCount</th>\n",
       "    </tr>\n",
       "  </thead>\n",
       "  <tbody>\n",
       "    <tr>\n",
       "      <th>0</th>\n",
       "      <td>20867</td>\n",
       "      <td>2206</td>\n",
       "      <td>\"DuHzAJ-eQIiCIp7p4ldoVcVAOeY/aFJsSmDi9XPxBq8Fo...</td>\n",
       "      <td>0</td>\n",
       "      <td>lLWEXRAnQd0</td>\n",
       "      <td>149323</td>\n",
       "      <td>7393172</td>\n",
       "    </tr>\n",
       "    <tr>\n",
       "      <th>1</th>\n",
       "      <td>2314</td>\n",
       "      <td>330</td>\n",
       "      <td>\"DuHzAJ-eQIiCIp7p4ldoVcVAOeY/ZbuaG07r4lhthDQ-W...</td>\n",
       "      <td>0</td>\n",
       "      <td>kJFB6rH3z2A</td>\n",
       "      <td>17582</td>\n",
       "      <td>1403034</td>\n",
       "    </tr>\n",
       "    <tr>\n",
       "      <th>2</th>\n",
       "      <td>456</td>\n",
       "      <td>92</td>\n",
       "      <td>\"DuHzAJ-eQIiCIp7p4ldoVcVAOeY/0dcbs-Whhl78lEcfN...</td>\n",
       "      <td>0</td>\n",
       "      <td>tWoInh2USOs</td>\n",
       "      <td>3852</td>\n",
       "      <td>446389</td>\n",
       "    </tr>\n",
       "    <tr>\n",
       "      <th>3</th>\n",
       "      <td>2956</td>\n",
       "      <td>636</td>\n",
       "      <td>\"DuHzAJ-eQIiCIp7p4ldoVcVAOeY/2inPtuSefvcAs7Hce...</td>\n",
       "      <td>0</td>\n",
       "      <td>UQ-RTZCOQn0</td>\n",
       "      <td>29745</td>\n",
       "      <td>2901816</td>\n",
       "    </tr>\n",
       "    <tr>\n",
       "      <th>4</th>\n",
       "      <td>1573</td>\n",
       "      <td>308</td>\n",
       "      <td>\"DuHzAJ-eQIiCIp7p4ldoVcVAOeY/rYRuYzUPOZzEjywrv...</td>\n",
       "      <td>0</td>\n",
       "      <td>TohG7F8M3Ls</td>\n",
       "      <td>13879</td>\n",
       "      <td>1150437</td>\n",
       "    </tr>\n",
       "  </tbody>\n",
       "</table>\n",
       "</div>"
      ],
      "text/plain": [
       "   commentCount  dislikeCount  \\\n",
       "0         20867          2206   \n",
       "1          2314           330   \n",
       "2           456            92   \n",
       "3          2956           636   \n",
       "4          1573           308   \n",
       "\n",
       "                                                etag  favoriteCount  \\\n",
       "0  \"DuHzAJ-eQIiCIp7p4ldoVcVAOeY/aFJsSmDi9XPxBq8Fo...              0   \n",
       "1  \"DuHzAJ-eQIiCIp7p4ldoVcVAOeY/ZbuaG07r4lhthDQ-W...              0   \n",
       "2  \"DuHzAJ-eQIiCIp7p4ldoVcVAOeY/0dcbs-Whhl78lEcfN...              0   \n",
       "3  \"DuHzAJ-eQIiCIp7p4ldoVcVAOeY/2inPtuSefvcAs7Hce...              0   \n",
       "4  \"DuHzAJ-eQIiCIp7p4ldoVcVAOeY/rYRuYzUPOZzEjywrv...              0   \n",
       "\n",
       "            id  likeCount  viewCount  \n",
       "0  lLWEXRAnQd0     149323    7393172  \n",
       "1  kJFB6rH3z2A      17582    1403034  \n",
       "2  tWoInh2USOs       3852     446389  \n",
       "3  UQ-RTZCOQn0      29745    2901816  \n",
       "4  TohG7F8M3Ls      13879    1150437  "
      ]
     },
     "execution_count": 7,
     "metadata": {},
     "output_type": "execute_result"
    }
   ],
   "source": [
    "records = [extract_record(js) for js in json_data]\n",
    "record_df = pd.DataFrame.from_records(records)\n",
    "print(\"Read %d video records\" % len(record_df))\n",
    "record_df.head()"
   ]
  },
  {
   "cell_type": "code",
   "execution_count": 8,
   "metadata": {
    "collapsed": true
   },
   "outputs": [],
   "source": [
    "record_df.to_csv('video_stats.csv', index=False)"
   ]
  }
 ],
 "metadata": {
  "kernelspec": {
   "display_name": "Python 3",
   "language": "python",
   "name": "python3"
  },
  "language_info": {
   "codemirror_mode": {
    "name": "ipython",
    "version": 3
   },
   "file_extension": ".py",
   "mimetype": "text/x-python",
   "name": "python",
   "nbconvert_exporter": "python",
   "pygments_lexer": "ipython3",
   "version": "3.6.1"
  }
 },
 "nbformat": 4,
 "nbformat_minor": 2
}
